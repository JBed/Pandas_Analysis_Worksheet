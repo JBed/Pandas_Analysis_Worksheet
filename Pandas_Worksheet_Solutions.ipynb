{
 "cells": [
  {
   "cell_type": "markdown",
   "metadata": {},
   "source": [
    "# Pandas Worksheet Solutions"
   ]
  },
  {
   "cell_type": "code",
   "execution_count": 1,
   "metadata": {
    "collapsed": true
   },
   "outputs": [],
   "source": [
    "import pandas as pd\n",
    "%matplotlib inline"
   ]
  },
  {
   "cell_type": "markdown",
   "metadata": {},
   "source": [
    "The goal of this worksheet is to provide practical examples of aggregating (with group by), plotting, and pivoting data with the Pandas Python package.\n",
    "\n",
    "This worksheet is available as a jupyter notebook on github here: https://github.com/JBed/Pandas_Analysis_Worksheet\n",
    "\n",
    "Get the data here: https://www.kaggle.com/dansbecker/nba-shot-logs \n",
    "\n",
    "Finally, if you have any questions, comments, or believe that I did anything incorrectly feel free to email me here: jason@jbedford.net"
   ]
  },
  {
   "cell_type": "code",
   "execution_count": 2,
   "metadata": {
    "collapsed": true
   },
   "outputs": [],
   "source": [
    "df = pd.read_csv('nba-shot-logs.zip')"
   ]
  },
  {
   "cell_type": "markdown",
   "metadata": {},
   "source": [
    "The data is structured so that each row corresponds to one shot taking during the 2014-2015 NBA season (We exclude free throws)."
   ]
  },
  {
   "cell_type": "code",
   "execution_count": 18,
   "metadata": {},
   "outputs": [
    {
     "data": {
      "text/html": [
       "<div>\n",
       "<table border=\"1\" class=\"dataframe\">\n",
       "  <thead>\n",
       "    <tr style=\"text-align: right;\">\n",
       "      <th></th>\n",
       "      <th>GAME_ID</th>\n",
       "      <th>MATCHUP</th>\n",
       "      <th>LOCATION</th>\n",
       "      <th>W</th>\n",
       "      <th>FINAL_MARGIN</th>\n",
       "      <th>SHOT_NUMBER</th>\n",
       "      <th>PERIOD</th>\n",
       "      <th>GAME_CLOCK</th>\n",
       "      <th>SHOT_CLOCK</th>\n",
       "      <th>DRIBBLES</th>\n",
       "      <th>...</th>\n",
       "      <th>SHOT_DIST</th>\n",
       "      <th>PTS_TYPE</th>\n",
       "      <th>SHOT_RESULT</th>\n",
       "      <th>CLOSEST_DEFENDER</th>\n",
       "      <th>CLOSEST_DEFENDER_PLAYER_ID</th>\n",
       "      <th>CLOSE_DEF_DIST</th>\n",
       "      <th>FGM</th>\n",
       "      <th>PTS</th>\n",
       "      <th>player_name</th>\n",
       "      <th>player_id</th>\n",
       "    </tr>\n",
       "  </thead>\n",
       "  <tbody>\n",
       "    <tr>\n",
       "      <th>0</th>\n",
       "      <td>21400899</td>\n",
       "      <td>MAR 04, 2015 - CHA @ BKN</td>\n",
       "      <td>A</td>\n",
       "      <td>W</td>\n",
       "      <td>24</td>\n",
       "      <td>1</td>\n",
       "      <td>1</td>\n",
       "      <td>1:09</td>\n",
       "      <td>10.8</td>\n",
       "      <td>2</td>\n",
       "      <td>...</td>\n",
       "      <td>7.7</td>\n",
       "      <td>2</td>\n",
       "      <td>made</td>\n",
       "      <td>Anderson, Alan</td>\n",
       "      <td>101187</td>\n",
       "      <td>1.3</td>\n",
       "      <td>1</td>\n",
       "      <td>2</td>\n",
       "      <td>brian roberts</td>\n",
       "      <td>203148</td>\n",
       "    </tr>\n",
       "    <tr>\n",
       "      <th>1</th>\n",
       "      <td>21400899</td>\n",
       "      <td>MAR 04, 2015 - CHA @ BKN</td>\n",
       "      <td>A</td>\n",
       "      <td>W</td>\n",
       "      <td>24</td>\n",
       "      <td>2</td>\n",
       "      <td>1</td>\n",
       "      <td>0:14</td>\n",
       "      <td>3.4</td>\n",
       "      <td>0</td>\n",
       "      <td>...</td>\n",
       "      <td>28.2</td>\n",
       "      <td>3</td>\n",
       "      <td>missed</td>\n",
       "      <td>Bogdanovic, Bojan</td>\n",
       "      <td>202711</td>\n",
       "      <td>6.1</td>\n",
       "      <td>0</td>\n",
       "      <td>0</td>\n",
       "      <td>brian roberts</td>\n",
       "      <td>203148</td>\n",
       "    </tr>\n",
       "  </tbody>\n",
       "</table>\n",
       "<p>2 rows × 21 columns</p>\n",
       "</div>"
      ],
      "text/plain": [
       "    GAME_ID                   MATCHUP LOCATION  W  FINAL_MARGIN  SHOT_NUMBER  \\\n",
       "0  21400899  MAR 04, 2015 - CHA @ BKN        A  W            24            1   \n",
       "1  21400899  MAR 04, 2015 - CHA @ BKN        A  W            24            2   \n",
       "\n",
       "   PERIOD GAME_CLOCK  SHOT_CLOCK  DRIBBLES    ...     SHOT_DIST  PTS_TYPE  \\\n",
       "0       1       1:09        10.8         2    ...           7.7         2   \n",
       "1       1       0:14         3.4         0    ...          28.2         3   \n",
       "\n",
       "   SHOT_RESULT   CLOSEST_DEFENDER CLOSEST_DEFENDER_PLAYER_ID  CLOSE_DEF_DIST  \\\n",
       "0         made     Anderson, Alan                     101187             1.3   \n",
       "1       missed  Bogdanovic, Bojan                     202711             6.1   \n",
       "\n",
       "   FGM  PTS    player_name player_id  \n",
       "0    1    2  brian roberts    203148  \n",
       "1    0    0  brian roberts    203148  \n",
       "\n",
       "[2 rows x 21 columns]"
      ]
     },
     "execution_count": 18,
     "metadata": {},
     "output_type": "execute_result"
    }
   ],
   "source": [
    "df.head(2)"
   ]
  },
  {
   "cell_type": "code",
   "execution_count": 4,
   "metadata": {},
   "outputs": [
    {
     "data": {
      "text/plain": [
       "Index(['GAME_ID', 'MATCHUP', 'LOCATION', 'W', 'FINAL_MARGIN', 'SHOT_NUMBER',\n",
       "       'PERIOD', 'GAME_CLOCK', 'SHOT_CLOCK', 'DRIBBLES', 'TOUCH_TIME',\n",
       "       'SHOT_DIST', 'PTS_TYPE', 'SHOT_RESULT', 'CLOSEST_DEFENDER',\n",
       "       'CLOSEST_DEFENDER_PLAYER_ID', 'CLOSE_DEF_DIST', 'FGM', 'PTS',\n",
       "       'player_name', 'player_id'],\n",
       "      dtype='object')"
      ]
     },
     "execution_count": 4,
     "metadata": {},
     "output_type": "execute_result"
    }
   ],
   "source": [
    "df.columns"
   ]
  },
  {
   "cell_type": "markdown",
   "metadata": {},
   "source": [
    "Most of the column names are self-explanatory. One thing that initially confused me was that there is no column telling us the team of the player taking the shot. It turns out that that information is hidden in the MATCHUP column. "
   ]
  },
  {
   "cell_type": "code",
   "execution_count": 24,
   "metadata": {},
   "outputs": [
    {
     "data": {
      "text/plain": [
       "array(['MAR 04, 2015 - CHA @ BKN', 'MAR 04, 2015 - BKN vs. CHA'], dtype=object)"
      ]
     },
     "execution_count": 24,
     "metadata": {},
     "output_type": "execute_result"
    }
   ],
   "source": [
    "df.set_index('GAME_ID').loc[21400899]['MATCHUP'].unique()"
   ]
  },
  {
   "cell_type": "markdown",
   "metadata": {},
   "source": [
    "We see that the name of the team of the player taking the shot is the first team listed after the date. It turns out that having things structured this way is actually very convenient."
   ]
  },
  {
   "cell_type": "code",
   "execution_count": null,
   "metadata": {
    "collapsed": true
   },
   "outputs": [],
   "source": []
  },
  {
   "cell_type": "markdown",
   "metadata": {},
   "source": [
    "## Part1: Questions about SHOT_RESULT for one team in a one game"
   ]
  },
  {
   "cell_type": "markdown",
   "metadata": {},
   "source": [
    "Here It makes sense restructure our data so that each row is referring to one team in one game and the columns give us the number of shots made or missed. This can be done with either DataFrame.groupby or pandas.pivot_table which I show below."
   ]
  },
  {
   "cell_type": "code",
   "execution_count": 27,
   "metadata": {
    "collapsed": true
   },
   "outputs": [],
   "source": [
    "shot_result_by_matchup = df.groupby(['MATCHUP','SHOT_RESULT']).size().unstack()"
   ]
  },
  {
   "cell_type": "code",
   "execution_count": 28,
   "metadata": {},
   "outputs": [
    {
     "data": {
      "text/html": [
       "<div>\n",
       "<table border=\"1\" class=\"dataframe\">\n",
       "  <thead>\n",
       "    <tr style=\"text-align: right;\">\n",
       "      <th>SHOT_RESULT</th>\n",
       "      <th>made</th>\n",
       "      <th>missed</th>\n",
       "    </tr>\n",
       "    <tr>\n",
       "      <th>MATCHUP</th>\n",
       "      <th></th>\n",
       "      <th></th>\n",
       "    </tr>\n",
       "  </thead>\n",
       "  <tbody>\n",
       "    <tr>\n",
       "      <th>DEC 01, 2014 - DEN @ UTA</th>\n",
       "      <td>39</td>\n",
       "      <td>41</td>\n",
       "    </tr>\n",
       "    <tr>\n",
       "      <th>DEC 01, 2014 - LAC vs. MIN</th>\n",
       "      <td>36</td>\n",
       "      <td>33</td>\n",
       "    </tr>\n",
       "    <tr>\n",
       "      <th>DEC 01, 2014 - MIA @ WAS</th>\n",
       "      <td>31</td>\n",
       "      <td>35</td>\n",
       "    </tr>\n",
       "    <tr>\n",
       "      <th>DEC 01, 2014 - MIN @ LAC</th>\n",
       "      <td>30</td>\n",
       "      <td>38</td>\n",
       "    </tr>\n",
       "    <tr>\n",
       "      <th>DEC 01, 2014 - PHI vs. SAS</th>\n",
       "      <td>28</td>\n",
       "      <td>37</td>\n",
       "    </tr>\n",
       "  </tbody>\n",
       "</table>\n",
       "</div>"
      ],
      "text/plain": [
       "SHOT_RESULT                 made  missed\n",
       "MATCHUP                                 \n",
       "DEC 01, 2014 - DEN @ UTA      39      41\n",
       "DEC 01, 2014 - LAC vs. MIN    36      33\n",
       "DEC 01, 2014 - MIA @ WAS      31      35\n",
       "DEC 01, 2014 - MIN @ LAC      30      38\n",
       "DEC 01, 2014 - PHI vs. SAS    28      37"
      ]
     },
     "execution_count": 28,
     "metadata": {},
     "output_type": "execute_result"
    }
   ],
   "source": [
    "shot_result_by_matchup.head()"
   ]
  },
  {
   "cell_type": "code",
   "execution_count": 33,
   "metadata": {},
   "outputs": [
    {
     "data": {
      "text/html": [
       "<div>\n",
       "<table border=\"1\" class=\"dataframe\">\n",
       "  <thead>\n",
       "    <tr style=\"text-align: right;\">\n",
       "      <th>SHOT_RESULT</th>\n",
       "      <th>made</th>\n",
       "      <th>missed</th>\n",
       "    </tr>\n",
       "    <tr>\n",
       "      <th>MATCHUP</th>\n",
       "      <th></th>\n",
       "      <th></th>\n",
       "    </tr>\n",
       "  </thead>\n",
       "  <tbody>\n",
       "    <tr>\n",
       "      <th>DEC 01, 2014 - DEN @ UTA</th>\n",
       "      <td>39</td>\n",
       "      <td>41</td>\n",
       "    </tr>\n",
       "    <tr>\n",
       "      <th>DEC 01, 2014 - LAC vs. MIN</th>\n",
       "      <td>36</td>\n",
       "      <td>33</td>\n",
       "    </tr>\n",
       "    <tr>\n",
       "      <th>DEC 01, 2014 - MIA @ WAS</th>\n",
       "      <td>31</td>\n",
       "      <td>35</td>\n",
       "    </tr>\n",
       "    <tr>\n",
       "      <th>DEC 01, 2014 - MIN @ LAC</th>\n",
       "      <td>30</td>\n",
       "      <td>38</td>\n",
       "    </tr>\n",
       "    <tr>\n",
       "      <th>DEC 01, 2014 - PHI vs. SAS</th>\n",
       "      <td>28</td>\n",
       "      <td>37</td>\n",
       "    </tr>\n",
       "  </tbody>\n",
       "</table>\n",
       "</div>"
      ],
      "text/plain": [
       "SHOT_RESULT                 made  missed\n",
       "MATCHUP                                 \n",
       "DEC 01, 2014 - DEN @ UTA      39      41\n",
       "DEC 01, 2014 - LAC vs. MIN    36      33\n",
       "DEC 01, 2014 - MIA @ WAS      31      35\n",
       "DEC 01, 2014 - MIN @ LAC      30      38\n",
       "DEC 01, 2014 - PHI vs. SAS    28      37"
      ]
     },
     "execution_count": 33,
     "metadata": {},
     "output_type": "execute_result"
    }
   ],
   "source": [
    "df.pivot_table(index='MATCHUP', columns='SHOT_RESULT', \\\n",
    "               values='W',aggfunc=lambda x: len(x)).head()"
   ]
  },
  {
   "cell_type": "markdown",
   "metadata": {},
   "source": [
    "Personally I find the groupby operation to be more expressive. "
   ]
  },
  {
   "cell_type": "code",
   "execution_count": null,
   "metadata": {
    "collapsed": true
   },
   "outputs": [],
   "source": []
  },
  {
   "cell_type": "markdown",
   "metadata": {},
   "source": [
    "### Q1.1 which team made the most and least shots in a game"
   ]
  },
  {
   "cell_type": "markdown",
   "metadata": {},
   "source": [
    "This is done by sorting the above on made"
   ]
  },
  {
   "cell_type": "code",
   "execution_count": 37,
   "metadata": {},
   "outputs": [
    {
     "data": {
      "text/html": [
       "<div>\n",
       "<table border=\"1\" class=\"dataframe\">\n",
       "  <thead>\n",
       "    <tr style=\"text-align: right;\">\n",
       "      <th>SHOT_RESULT</th>\n",
       "      <th>made</th>\n",
       "      <th>missed</th>\n",
       "      <th>total</th>\n",
       "    </tr>\n",
       "    <tr>\n",
       "      <th>MATCHUP</th>\n",
       "      <th></th>\n",
       "      <th></th>\n",
       "      <th></th>\n",
       "    </tr>\n",
       "  </thead>\n",
       "  <tbody>\n",
       "    <tr>\n",
       "      <th>FEB 09, 2015 - GSW @ PHI</th>\n",
       "      <td>2</td>\n",
       "      <td>9</td>\n",
       "      <td>11</td>\n",
       "    </tr>\n",
       "    <tr>\n",
       "      <th>FEB 09, 2015 - PHI vs. GSW</th>\n",
       "      <td>3</td>\n",
       "      <td>7</td>\n",
       "      <td>10</td>\n",
       "    </tr>\n",
       "    <tr>\n",
       "      <th>MAR 04, 2015 - NYK @ IND</th>\n",
       "      <td>7</td>\n",
       "      <td>18</td>\n",
       "      <td>25</td>\n",
       "    </tr>\n",
       "    <tr>\n",
       "      <th>OCT 29, 2014 - PHI @ IND</th>\n",
       "      <td>9</td>\n",
       "      <td>25</td>\n",
       "      <td>34</td>\n",
       "    </tr>\n",
       "    <tr>\n",
       "      <th>FEB 11, 2015 - MIN vs. GSW</th>\n",
       "      <td>11</td>\n",
       "      <td>27</td>\n",
       "      <td>38</td>\n",
       "    </tr>\n",
       "  </tbody>\n",
       "</table>\n",
       "</div>"
      ],
      "text/plain": [
       "SHOT_RESULT                 made  missed  total\n",
       "MATCHUP                                        \n",
       "FEB 09, 2015 - GSW @ PHI       2       9     11\n",
       "FEB 09, 2015 - PHI vs. GSW     3       7     10\n",
       "MAR 04, 2015 - NYK @ IND       7      18     25\n",
       "OCT 29, 2014 - PHI @ IND       9      25     34\n",
       "FEB 11, 2015 - MIN vs. GSW    11      27     38"
      ]
     },
     "execution_count": 37,
     "metadata": {},
     "output_type": "execute_result"
    }
   ],
   "source": [
    "shot_result_by_matchup.sort_values(by='made').head()"
   ]
  },
  {
   "cell_type": "code",
   "execution_count": 38,
   "metadata": {},
   "outputs": [
    {
     "data": {
      "text/html": [
       "<div>\n",
       "<table border=\"1\" class=\"dataframe\">\n",
       "  <thead>\n",
       "    <tr style=\"text-align: right;\">\n",
       "      <th>SHOT_RESULT</th>\n",
       "      <th>made</th>\n",
       "      <th>missed</th>\n",
       "      <th>total</th>\n",
       "    </tr>\n",
       "    <tr>\n",
       "      <th>MATCHUP</th>\n",
       "      <th></th>\n",
       "      <th></th>\n",
       "      <th></th>\n",
       "    </tr>\n",
       "  </thead>\n",
       "  <tbody>\n",
       "    <tr>\n",
       "      <th>NOV 28, 2014 - LAL vs. MIN</th>\n",
       "      <td>48</td>\n",
       "      <td>41</td>\n",
       "      <td>89</td>\n",
       "    </tr>\n",
       "    <tr>\n",
       "      <th>DEC 27, 2014 - SAC vs. NYK</th>\n",
       "      <td>48</td>\n",
       "      <td>39</td>\n",
       "      <td>87</td>\n",
       "    </tr>\n",
       "    <tr>\n",
       "      <th>DEC 08, 2014 - WAS vs. BOS</th>\n",
       "      <td>48</td>\n",
       "      <td>39</td>\n",
       "      <td>87</td>\n",
       "    </tr>\n",
       "    <tr>\n",
       "      <th>NOV 07, 2014 - CHA vs. ATL</th>\n",
       "      <td>47</td>\n",
       "      <td>46</td>\n",
       "      <td>93</td>\n",
       "    </tr>\n",
       "    <tr>\n",
       "      <th>JAN 12, 2015 - TOR vs. DET</th>\n",
       "      <td>47</td>\n",
       "      <td>39</td>\n",
       "      <td>86</td>\n",
       "    </tr>\n",
       "  </tbody>\n",
       "</table>\n",
       "</div>"
      ],
      "text/plain": [
       "SHOT_RESULT                 made  missed  total\n",
       "MATCHUP                                        \n",
       "NOV 28, 2014 - LAL vs. MIN    48      41     89\n",
       "DEC 27, 2014 - SAC vs. NYK    48      39     87\n",
       "DEC 08, 2014 - WAS vs. BOS    48      39     87\n",
       "NOV 07, 2014 - CHA vs. ATL    47      46     93\n",
       "JAN 12, 2015 - TOR vs. DET    47      39     86"
      ]
     },
     "execution_count": 38,
     "metadata": {},
     "output_type": "execute_result"
    }
   ],
   "source": [
    "shot_result_by_matchup.sort_values(by='made', ascending=False).head()"
   ]
  },
  {
   "cell_type": "code",
   "execution_count": null,
   "metadata": {
    "collapsed": true
   },
   "outputs": [],
   "source": []
  },
  {
   "cell_type": "markdown",
   "metadata": {},
   "source": [
    "### Q1.2: which team took the most and least shots in a game."
   ]
  },
  {
   "cell_type": "markdown",
   "metadata": {},
   "source": [
    "We'll make a new column called total and sort on that."
   ]
  },
  {
   "cell_type": "code",
   "execution_count": 34,
   "metadata": {
    "collapsed": true
   },
   "outputs": [],
   "source": [
    "shot_result_by_matchup['total'] = shot_result_by_matchup.sum(axis=1)"
   ]
  },
  {
   "cell_type": "code",
   "execution_count": 35,
   "metadata": {},
   "outputs": [
    {
     "data": {
      "text/html": [
       "<div>\n",
       "<table border=\"1\" class=\"dataframe\">\n",
       "  <thead>\n",
       "    <tr style=\"text-align: right;\">\n",
       "      <th>SHOT_RESULT</th>\n",
       "      <th>made</th>\n",
       "      <th>missed</th>\n",
       "      <th>total</th>\n",
       "    </tr>\n",
       "    <tr>\n",
       "      <th>MATCHUP</th>\n",
       "      <th></th>\n",
       "      <th></th>\n",
       "      <th></th>\n",
       "    </tr>\n",
       "  </thead>\n",
       "  <tbody>\n",
       "    <tr>\n",
       "      <th>FEB 09, 2015 - PHI vs. GSW</th>\n",
       "      <td>3</td>\n",
       "      <td>7</td>\n",
       "      <td>10</td>\n",
       "    </tr>\n",
       "    <tr>\n",
       "      <th>FEB 09, 2015 - GSW @ PHI</th>\n",
       "      <td>2</td>\n",
       "      <td>9</td>\n",
       "      <td>11</td>\n",
       "    </tr>\n",
       "    <tr>\n",
       "      <th>MAR 04, 2015 - NYK @ IND</th>\n",
       "      <td>7</td>\n",
       "      <td>18</td>\n",
       "      <td>25</td>\n",
       "    </tr>\n",
       "    <tr>\n",
       "      <th>FEB 28, 2015 - NYK vs. TOR</th>\n",
       "      <td>13</td>\n",
       "      <td>14</td>\n",
       "      <td>27</td>\n",
       "    </tr>\n",
       "    <tr>\n",
       "      <th>FEB 23, 2015 - MIN @ HOU</th>\n",
       "      <td>14</td>\n",
       "      <td>19</td>\n",
       "      <td>33</td>\n",
       "    </tr>\n",
       "  </tbody>\n",
       "</table>\n",
       "</div>"
      ],
      "text/plain": [
       "SHOT_RESULT                 made  missed  total\n",
       "MATCHUP                                        \n",
       "FEB 09, 2015 - PHI vs. GSW     3       7     10\n",
       "FEB 09, 2015 - GSW @ PHI       2       9     11\n",
       "MAR 04, 2015 - NYK @ IND       7      18     25\n",
       "FEB 28, 2015 - NYK vs. TOR    13      14     27\n",
       "FEB 23, 2015 - MIN @ HOU      14      19     33"
      ]
     },
     "execution_count": 35,
     "metadata": {},
     "output_type": "execute_result"
    }
   ],
   "source": [
    "shot_result_by_matchup.sort_values(by='total').head()"
   ]
  },
  {
   "cell_type": "markdown",
   "metadata": {},
   "source": [
    "These are likely game that were canceled"
   ]
  },
  {
   "cell_type": "code",
   "execution_count": 36,
   "metadata": {},
   "outputs": [
    {
     "data": {
      "text/html": [
       "<div>\n",
       "<table border=\"1\" class=\"dataframe\">\n",
       "  <thead>\n",
       "    <tr style=\"text-align: right;\">\n",
       "      <th>SHOT_RESULT</th>\n",
       "      <th>made</th>\n",
       "      <th>missed</th>\n",
       "      <th>total</th>\n",
       "    </tr>\n",
       "    <tr>\n",
       "      <th>MATCHUP</th>\n",
       "      <th></th>\n",
       "      <th></th>\n",
       "      <th></th>\n",
       "    </tr>\n",
       "  </thead>\n",
       "  <tbody>\n",
       "    <tr>\n",
       "      <th>FEB 07, 2015 - DAL vs. POR</th>\n",
       "      <td>43</td>\n",
       "      <td>62</td>\n",
       "      <td>105</td>\n",
       "    </tr>\n",
       "    <tr>\n",
       "      <th>JAN 29, 2015 - CHI @ LAL</th>\n",
       "      <td>42</td>\n",
       "      <td>61</td>\n",
       "      <td>103</td>\n",
       "    </tr>\n",
       "    <tr>\n",
       "      <th>NOV 30, 2014 - TOR @ LAL</th>\n",
       "      <td>44</td>\n",
       "      <td>58</td>\n",
       "      <td>102</td>\n",
       "    </tr>\n",
       "    <tr>\n",
       "      <th>DEC 03, 2014 - SAS @ BKN</th>\n",
       "      <td>36</td>\n",
       "      <td>65</td>\n",
       "      <td>101</td>\n",
       "    </tr>\n",
       "    <tr>\n",
       "      <th>OCT 29, 2014 - CHA vs. MIL</th>\n",
       "      <td>41</td>\n",
       "      <td>60</td>\n",
       "      <td>101</td>\n",
       "    </tr>\n",
       "  </tbody>\n",
       "</table>\n",
       "</div>"
      ],
      "text/plain": [
       "SHOT_RESULT                 made  missed  total\n",
       "MATCHUP                                        \n",
       "FEB 07, 2015 - DAL vs. POR    43      62    105\n",
       "JAN 29, 2015 - CHI @ LAL      42      61    103\n",
       "NOV 30, 2014 - TOR @ LAL      44      58    102\n",
       "DEC 03, 2014 - SAS @ BKN      36      65    101\n",
       "OCT 29, 2014 - CHA vs. MIL    41      60    101"
      ]
     },
     "execution_count": 36,
     "metadata": {},
     "output_type": "execute_result"
    }
   ],
   "source": [
    "shot_result_by_matchup.sort_values(by='total',ascending=False).head()"
   ]
  },
  {
   "cell_type": "code",
   "execution_count": null,
   "metadata": {
    "collapsed": true
   },
   "outputs": [],
   "source": []
  },
  {
   "cell_type": "markdown",
   "metadata": {},
   "source": [
    "### Q1.3 Which team made the most shots as a percentage of all shots taken in a game"
   ]
  },
  {
   "cell_type": "markdown",
   "metadata": {},
   "source": [
    "we'll make a derived column called make_percent and sort on that."
   ]
  },
  {
   "cell_type": "code",
   "execution_count": 39,
   "metadata": {
    "collapsed": true
   },
   "outputs": [],
   "source": [
    "shot_result_by_matchup['make_percent'] = \\\n",
    "round((shot_result_by_matchup['made'] / shot_result_by_matchup['total'])*100,1)"
   ]
  },
  {
   "cell_type": "code",
   "execution_count": 40,
   "metadata": {},
   "outputs": [
    {
     "data": {
      "text/html": [
       "<div>\n",
       "<table border=\"1\" class=\"dataframe\">\n",
       "  <thead>\n",
       "    <tr style=\"text-align: right;\">\n",
       "      <th>SHOT_RESULT</th>\n",
       "      <th>made</th>\n",
       "      <th>missed</th>\n",
       "      <th>total</th>\n",
       "      <th>make_percent</th>\n",
       "    </tr>\n",
       "    <tr>\n",
       "      <th>MATCHUP</th>\n",
       "      <th></th>\n",
       "      <th></th>\n",
       "      <th></th>\n",
       "      <th></th>\n",
       "    </tr>\n",
       "  </thead>\n",
       "  <tbody>\n",
       "    <tr>\n",
       "      <th>FEB 09, 2015 - GSW @ PHI</th>\n",
       "      <td>2</td>\n",
       "      <td>9</td>\n",
       "      <td>11</td>\n",
       "      <td>18.2</td>\n",
       "    </tr>\n",
       "    <tr>\n",
       "      <th>OCT 29, 2014 - PHI @ IND</th>\n",
       "      <td>9</td>\n",
       "      <td>25</td>\n",
       "      <td>34</td>\n",
       "      <td>26.5</td>\n",
       "    </tr>\n",
       "    <tr>\n",
       "      <th>MAR 04, 2015 - NYK @ IND</th>\n",
       "      <td>7</td>\n",
       "      <td>18</td>\n",
       "      <td>25</td>\n",
       "      <td>28.0</td>\n",
       "    </tr>\n",
       "    <tr>\n",
       "      <th>NOV 16, 2014 - OKC vs. HOU</th>\n",
       "      <td>13</td>\n",
       "      <td>33</td>\n",
       "      <td>46</td>\n",
       "      <td>28.3</td>\n",
       "    </tr>\n",
       "    <tr>\n",
       "      <th>JAN 13, 2015 - LAL vs. MIA</th>\n",
       "      <td>23</td>\n",
       "      <td>58</td>\n",
       "      <td>81</td>\n",
       "      <td>28.4</td>\n",
       "    </tr>\n",
       "  </tbody>\n",
       "</table>\n",
       "</div>"
      ],
      "text/plain": [
       "SHOT_RESULT                 made  missed  total  make_percent\n",
       "MATCHUP                                                      \n",
       "FEB 09, 2015 - GSW @ PHI       2       9     11          18.2\n",
       "OCT 29, 2014 - PHI @ IND       9      25     34          26.5\n",
       "MAR 04, 2015 - NYK @ IND       7      18     25          28.0\n",
       "NOV 16, 2014 - OKC vs. HOU    13      33     46          28.3\n",
       "JAN 13, 2015 - LAL vs. MIA    23      58     81          28.4"
      ]
     },
     "execution_count": 40,
     "metadata": {},
     "output_type": "execute_result"
    }
   ],
   "source": [
    "shot_result_by_matchup.sort_values(by='make_percent').head()"
   ]
  },
  {
   "cell_type": "code",
   "execution_count": 41,
   "metadata": {},
   "outputs": [
    {
     "data": {
      "text/html": [
       "<div>\n",
       "<table border=\"1\" class=\"dataframe\">\n",
       "  <thead>\n",
       "    <tr style=\"text-align: right;\">\n",
       "      <th>SHOT_RESULT</th>\n",
       "      <th>made</th>\n",
       "      <th>missed</th>\n",
       "      <th>total</th>\n",
       "      <th>make_percent</th>\n",
       "    </tr>\n",
       "    <tr>\n",
       "      <th>MATCHUP</th>\n",
       "      <th></th>\n",
       "      <th></th>\n",
       "      <th></th>\n",
       "      <th></th>\n",
       "    </tr>\n",
       "  </thead>\n",
       "  <tbody>\n",
       "    <tr>\n",
       "      <th>DEC 22, 2014 - SAS vs. LAC</th>\n",
       "      <td>44</td>\n",
       "      <td>25</td>\n",
       "      <td>69</td>\n",
       "      <td>63.8</td>\n",
       "    </tr>\n",
       "    <tr>\n",
       "      <th>JAN 16, 2015 - ATL @ TOR</th>\n",
       "      <td>40</td>\n",
       "      <td>23</td>\n",
       "      <td>63</td>\n",
       "      <td>63.5</td>\n",
       "    </tr>\n",
       "    <tr>\n",
       "      <th>DEC 07, 2014 - MEM vs. MIA</th>\n",
       "      <td>40</td>\n",
       "      <td>23</td>\n",
       "      <td>63</td>\n",
       "      <td>63.5</td>\n",
       "    </tr>\n",
       "    <tr>\n",
       "      <th>NOV 15, 2014 - CLE vs. ATL</th>\n",
       "      <td>39</td>\n",
       "      <td>23</td>\n",
       "      <td>62</td>\n",
       "      <td>62.9</td>\n",
       "    </tr>\n",
       "    <tr>\n",
       "      <th>NOV 14, 2014 - NOP vs. MIN</th>\n",
       "      <td>42</td>\n",
       "      <td>25</td>\n",
       "      <td>67</td>\n",
       "      <td>62.7</td>\n",
       "    </tr>\n",
       "  </tbody>\n",
       "</table>\n",
       "</div>"
      ],
      "text/plain": [
       "SHOT_RESULT                 made  missed  total  make_percent\n",
       "MATCHUP                                                      \n",
       "DEC 22, 2014 - SAS vs. LAC    44      25     69          63.8\n",
       "JAN 16, 2015 - ATL @ TOR      40      23     63          63.5\n",
       "DEC 07, 2014 - MEM vs. MIA    40      23     63          63.5\n",
       "NOV 15, 2014 - CLE vs. ATL    39      23     62          62.9\n",
       "NOV 14, 2014 - NOP vs. MIN    42      25     67          62.7"
      ]
     },
     "execution_count": 41,
     "metadata": {},
     "output_type": "execute_result"
    }
   ],
   "source": [
    "shot_result_by_matchup.sort_values(by='make_percent', ascending=False).head()"
   ]
  },
  {
   "cell_type": "code",
   "execution_count": null,
   "metadata": {
    "collapsed": true
   },
   "outputs": [],
   "source": []
  },
  {
   "cell_type": "markdown",
   "metadata": {},
   "source": [
    "## Part 2: Questions about SHOT_RESULT and W for one team in a one game"
   ]
  },
  {
   "cell_type": "markdown",
   "metadata": {},
   "source": [
    "Here we’ll make a dataframe similar to the above but with 'W' as a column"
   ]
  },
  {
   "cell_type": "code",
   "execution_count": 53,
   "metadata": {
    "collapsed": true
   },
   "outputs": [],
   "source": [
    "shot_and_game_result_by_matchup = df.groupby(['MATCHUP','W','SHOT_RESULT']).size().unstack()"
   ]
  },
  {
   "cell_type": "code",
   "execution_count": 54,
   "metadata": {},
   "outputs": [
    {
     "data": {
      "text/html": [
       "<div>\n",
       "<table border=\"1\" class=\"dataframe\">\n",
       "  <thead>\n",
       "    <tr style=\"text-align: right;\">\n",
       "      <th></th>\n",
       "      <th>SHOT_RESULT</th>\n",
       "      <th>made</th>\n",
       "      <th>missed</th>\n",
       "    </tr>\n",
       "    <tr>\n",
       "      <th>MATCHUP</th>\n",
       "      <th>W</th>\n",
       "      <th></th>\n",
       "      <th></th>\n",
       "    </tr>\n",
       "  </thead>\n",
       "  <tbody>\n",
       "    <tr>\n",
       "      <th>DEC 01, 2014 - DEN @ UTA</th>\n",
       "      <th>W</th>\n",
       "      <td>39</td>\n",
       "      <td>41</td>\n",
       "    </tr>\n",
       "    <tr>\n",
       "      <th>DEC 01, 2014 - LAC vs. MIN</th>\n",
       "      <th>W</th>\n",
       "      <td>36</td>\n",
       "      <td>33</td>\n",
       "    </tr>\n",
       "    <tr>\n",
       "      <th>DEC 01, 2014 - MIA @ WAS</th>\n",
       "      <th>L</th>\n",
       "      <td>31</td>\n",
       "      <td>35</td>\n",
       "    </tr>\n",
       "    <tr>\n",
       "      <th>DEC 01, 2014 - MIN @ LAC</th>\n",
       "      <th>L</th>\n",
       "      <td>30</td>\n",
       "      <td>38</td>\n",
       "    </tr>\n",
       "    <tr>\n",
       "      <th>DEC 01, 2014 - PHI vs. SAS</th>\n",
       "      <th>L</th>\n",
       "      <td>28</td>\n",
       "      <td>37</td>\n",
       "    </tr>\n",
       "  </tbody>\n",
       "</table>\n",
       "</div>"
      ],
      "text/plain": [
       "SHOT_RESULT                   made  missed\n",
       "MATCHUP                    W              \n",
       "DEC 01, 2014 - DEN @ UTA   W    39      41\n",
       "DEC 01, 2014 - LAC vs. MIN W    36      33\n",
       "DEC 01, 2014 - MIA @ WAS   L    31      35\n",
       "DEC 01, 2014 - MIN @ LAC   L    30      38\n",
       "DEC 01, 2014 - PHI vs. SAS L    28      37"
      ]
     },
     "execution_count": 54,
     "metadata": {},
     "output_type": "execute_result"
    }
   ],
   "source": [
    "shot_and_game_result_by_matchup.head()"
   ]
  },
  {
   "cell_type": "markdown",
   "metadata": {},
   "source": [
    "We want 'W' to be a column not part of the index as it is now"
   ]
  },
  {
   "cell_type": "code",
   "execution_count": 55,
   "metadata": {
    "collapsed": true
   },
   "outputs": [],
   "source": [
    "shot_and_game_result_by_matchup = \\\n",
    "shot_and_game_result_by_matchup.reset_index().set_index('MATCHUP')"
   ]
  },
  {
   "cell_type": "code",
   "execution_count": 56,
   "metadata": {},
   "outputs": [
    {
     "data": {
      "text/html": [
       "<div>\n",
       "<table border=\"1\" class=\"dataframe\">\n",
       "  <thead>\n",
       "    <tr style=\"text-align: right;\">\n",
       "      <th>SHOT_RESULT</th>\n",
       "      <th>W</th>\n",
       "      <th>made</th>\n",
       "      <th>missed</th>\n",
       "    </tr>\n",
       "    <tr>\n",
       "      <th>MATCHUP</th>\n",
       "      <th></th>\n",
       "      <th></th>\n",
       "      <th></th>\n",
       "    </tr>\n",
       "  </thead>\n",
       "  <tbody>\n",
       "    <tr>\n",
       "      <th>DEC 01, 2014 - DEN @ UTA</th>\n",
       "      <td>W</td>\n",
       "      <td>39</td>\n",
       "      <td>41</td>\n",
       "    </tr>\n",
       "    <tr>\n",
       "      <th>DEC 01, 2014 - LAC vs. MIN</th>\n",
       "      <td>W</td>\n",
       "      <td>36</td>\n",
       "      <td>33</td>\n",
       "    </tr>\n",
       "    <tr>\n",
       "      <th>DEC 01, 2014 - MIA @ WAS</th>\n",
       "      <td>L</td>\n",
       "      <td>31</td>\n",
       "      <td>35</td>\n",
       "    </tr>\n",
       "    <tr>\n",
       "      <th>DEC 01, 2014 - MIN @ LAC</th>\n",
       "      <td>L</td>\n",
       "      <td>30</td>\n",
       "      <td>38</td>\n",
       "    </tr>\n",
       "    <tr>\n",
       "      <th>DEC 01, 2014 - PHI vs. SAS</th>\n",
       "      <td>L</td>\n",
       "      <td>28</td>\n",
       "      <td>37</td>\n",
       "    </tr>\n",
       "  </tbody>\n",
       "</table>\n",
       "</div>"
      ],
      "text/plain": [
       "SHOT_RESULT                 W  made  missed\n",
       "MATCHUP                                    \n",
       "DEC 01, 2014 - DEN @ UTA    W    39      41\n",
       "DEC 01, 2014 - LAC vs. MIN  W    36      33\n",
       "DEC 01, 2014 - MIA @ WAS    L    31      35\n",
       "DEC 01, 2014 - MIN @ LAC    L    30      38\n",
       "DEC 01, 2014 - PHI vs. SAS  L    28      37"
      ]
     },
     "execution_count": 56,
     "metadata": {},
     "output_type": "execute_result"
    }
   ],
   "source": [
    "shot_and_game_result_by_matchup.head()"
   ]
  },
  {
   "cell_type": "code",
   "execution_count": null,
   "metadata": {
    "collapsed": true
   },
   "outputs": [],
   "source": []
  },
  {
   "cell_type": "markdown",
   "metadata": {},
   "source": [
    "### Q2.1 which team had the lowest make percentage (in a single game) but still won that game."
   ]
  },
  {
   "cell_type": "markdown",
   "metadata": {},
   "source": [
    "Again we'll make a derived column called make_percent"
   ]
  },
  {
   "cell_type": "code",
   "execution_count": 57,
   "metadata": {
    "collapsed": true
   },
   "outputs": [],
   "source": [
    "shot_and_game_result_by_matchup['make_percent'] = \\\n",
    "round((shot_and_game_result_by_matchup['made']/\\\n",
    "       shot_and_game_result_by_matchup.sum(axis=1))*100,1)"
   ]
  },
  {
   "cell_type": "code",
   "execution_count": 58,
   "metadata": {},
   "outputs": [
    {
     "data": {
      "text/html": [
       "<div>\n",
       "<table border=\"1\" class=\"dataframe\">\n",
       "  <thead>\n",
       "    <tr style=\"text-align: right;\">\n",
       "      <th>SHOT_RESULT</th>\n",
       "      <th>W</th>\n",
       "      <th>made</th>\n",
       "      <th>missed</th>\n",
       "      <th>make_percent</th>\n",
       "    </tr>\n",
       "    <tr>\n",
       "      <th>MATCHUP</th>\n",
       "      <th></th>\n",
       "      <th></th>\n",
       "      <th></th>\n",
       "      <th></th>\n",
       "    </tr>\n",
       "  </thead>\n",
       "  <tbody>\n",
       "    <tr>\n",
       "      <th>FEB 09, 2015 - GSW @ PHI</th>\n",
       "      <td>W</td>\n",
       "      <td>2</td>\n",
       "      <td>9</td>\n",
       "      <td>18.2</td>\n",
       "    </tr>\n",
       "    <tr>\n",
       "      <th>NOV 16, 2014 - HOU @ OKC</th>\n",
       "      <td>W</td>\n",
       "      <td>20</td>\n",
       "      <td>49</td>\n",
       "      <td>29.0</td>\n",
       "    </tr>\n",
       "    <tr>\n",
       "      <th>JAN 24, 2015 - CHA vs. NYK</th>\n",
       "      <td>W</td>\n",
       "      <td>23</td>\n",
       "      <td>50</td>\n",
       "      <td>31.5</td>\n",
       "    </tr>\n",
       "    <tr>\n",
       "      <th>DEC 31, 2014 - OKC vs. PHX</th>\n",
       "      <td>W</td>\n",
       "      <td>21</td>\n",
       "      <td>44</td>\n",
       "      <td>32.3</td>\n",
       "    </tr>\n",
       "    <tr>\n",
       "      <th>JAN 17, 2015 - CHA vs. IND</th>\n",
       "      <td>W</td>\n",
       "      <td>31</td>\n",
       "      <td>65</td>\n",
       "      <td>32.3</td>\n",
       "    </tr>\n",
       "  </tbody>\n",
       "</table>\n",
       "</div>"
      ],
      "text/plain": [
       "SHOT_RESULT                 W  made  missed  make_percent\n",
       "MATCHUP                                                  \n",
       "FEB 09, 2015 - GSW @ PHI    W     2       9          18.2\n",
       "NOV 16, 2014 - HOU @ OKC    W    20      49          29.0\n",
       "JAN 24, 2015 - CHA vs. NYK  W    23      50          31.5\n",
       "DEC 31, 2014 - OKC vs. PHX  W    21      44          32.3\n",
       "JAN 17, 2015 - CHA vs. IND  W    31      65          32.3"
      ]
     },
     "execution_count": 58,
     "metadata": {},
     "output_type": "execute_result"
    }
   ],
   "source": [
    "shot_and_game_result_by_matchup[\\\n",
    "shot_and_game_result_by_matchup['W']=='W'].sort_values(by='make_percent').head()"
   ]
  },
  {
   "cell_type": "code",
   "execution_count": 59,
   "metadata": {},
   "outputs": [
    {
     "data": {
      "text/html": [
       "<div>\n",
       "<table border=\"1\" class=\"dataframe\">\n",
       "  <thead>\n",
       "    <tr style=\"text-align: right;\">\n",
       "      <th>SHOT_RESULT</th>\n",
       "      <th>W</th>\n",
       "      <th>made</th>\n",
       "      <th>missed</th>\n",
       "      <th>make_percent</th>\n",
       "    </tr>\n",
       "    <tr>\n",
       "      <th>MATCHUP</th>\n",
       "      <th></th>\n",
       "      <th></th>\n",
       "      <th></th>\n",
       "      <th></th>\n",
       "    </tr>\n",
       "  </thead>\n",
       "  <tbody>\n",
       "    <tr>\n",
       "      <th>JAN 14, 2015 - HOU @ ORL</th>\n",
       "      <td>L</td>\n",
       "      <td>36</td>\n",
       "      <td>22</td>\n",
       "      <td>62.1</td>\n",
       "    </tr>\n",
       "    <tr>\n",
       "      <th>NOV 18, 2014 - NYK @ MIL</th>\n",
       "      <td>L</td>\n",
       "      <td>31</td>\n",
       "      <td>21</td>\n",
       "      <td>59.6</td>\n",
       "    </tr>\n",
       "    <tr>\n",
       "      <th>DEC 03, 2014 - MIA vs. ATL</th>\n",
       "      <td>L</td>\n",
       "      <td>33</td>\n",
       "      <td>23</td>\n",
       "      <td>58.9</td>\n",
       "    </tr>\n",
       "    <tr>\n",
       "      <th>NOV 14, 2014 - BOS vs. CLE</th>\n",
       "      <td>L</td>\n",
       "      <td>45</td>\n",
       "      <td>33</td>\n",
       "      <td>57.7</td>\n",
       "    </tr>\n",
       "    <tr>\n",
       "      <th>NOV 19, 2014 - NYK @ MIN</th>\n",
       "      <td>L</td>\n",
       "      <td>31</td>\n",
       "      <td>23</td>\n",
       "      <td>57.4</td>\n",
       "    </tr>\n",
       "  </tbody>\n",
       "</table>\n",
       "</div>"
      ],
      "text/plain": [
       "SHOT_RESULT                 W  made  missed  make_percent\n",
       "MATCHUP                                                  \n",
       "JAN 14, 2015 - HOU @ ORL    L    36      22          62.1\n",
       "NOV 18, 2014 - NYK @ MIL    L    31      21          59.6\n",
       "DEC 03, 2014 - MIA vs. ATL  L    33      23          58.9\n",
       "NOV 14, 2014 - BOS vs. CLE  L    45      33          57.7\n",
       "NOV 19, 2014 - NYK @ MIN    L    31      23          57.4"
      ]
     },
     "execution_count": 59,
     "metadata": {},
     "output_type": "execute_result"
    }
   ],
   "source": [
    "shot_and_game_result_by_matchup[\\\n",
    "shot_and_game_result_by_matchup['W']=='L'].sort_values(by='make_percent', \\\n",
    "                                                       ascending=False).head()"
   ]
  },
  {
   "cell_type": "code",
   "execution_count": null,
   "metadata": {
    "collapsed": true
   },
   "outputs": [],
   "source": []
  },
  {
   "cell_type": "markdown",
   "metadata": {},
   "source": [
    "### Q2.2 Did winning teams have a higher make percentage on average than losing teams?"
   ]
  },
  {
   "cell_type": "markdown",
   "metadata": {},
   "source": [
    "We'll explore this question with a group and a plot"
   ]
  },
  {
   "cell_type": "code",
   "execution_count": 60,
   "metadata": {},
   "outputs": [
    {
     "data": {
      "text/html": [
       "<div>\n",
       "<table border=\"1\" class=\"dataframe\">\n",
       "  <thead>\n",
       "    <tr style=\"text-align: right;\">\n",
       "      <th></th>\n",
       "      <th>count</th>\n",
       "      <th>mean</th>\n",
       "      <th>std</th>\n",
       "      <th>min</th>\n",
       "      <th>25%</th>\n",
       "      <th>50%</th>\n",
       "      <th>75%</th>\n",
       "      <th>max</th>\n",
       "    </tr>\n",
       "    <tr>\n",
       "      <th>W</th>\n",
       "      <th></th>\n",
       "      <th></th>\n",
       "      <th></th>\n",
       "      <th></th>\n",
       "      <th></th>\n",
       "      <th></th>\n",
       "      <th></th>\n",
       "      <th></th>\n",
       "    </tr>\n",
       "  </thead>\n",
       "  <tbody>\n",
       "    <tr>\n",
       "      <th>L</th>\n",
       "      <td>904.0</td>\n",
       "      <td>42.667146</td>\n",
       "      <td>5.415448</td>\n",
       "      <td>26.5</td>\n",
       "      <td>39.2</td>\n",
       "      <td>42.95</td>\n",
       "      <td>46.2</td>\n",
       "      <td>62.1</td>\n",
       "    </tr>\n",
       "    <tr>\n",
       "      <th>W</th>\n",
       "      <td>904.0</td>\n",
       "      <td>47.793363</td>\n",
       "      <td>5.583023</td>\n",
       "      <td>18.2</td>\n",
       "      <td>44.2</td>\n",
       "      <td>47.70</td>\n",
       "      <td>51.5</td>\n",
       "      <td>63.8</td>\n",
       "    </tr>\n",
       "  </tbody>\n",
       "</table>\n",
       "</div>"
      ],
      "text/plain": [
       "   count       mean       std   min   25%    50%   75%   max\n",
       "W                                                           \n",
       "L  904.0  42.667146  5.415448  26.5  39.2  42.95  46.2  62.1\n",
       "W  904.0  47.793363  5.583023  18.2  44.2  47.70  51.5  63.8"
      ]
     },
     "execution_count": 60,
     "metadata": {},
     "output_type": "execute_result"
    }
   ],
   "source": [
    "shot_and_game_result_by_matchup.groupby('W')['make_percent'].describe().unstack()"
   ]
  },
  {
   "cell_type": "code",
   "execution_count": 61,
   "metadata": {},
   "outputs": [
    {
     "data": {
      "text/plain": [
       "<matplotlib.axes._subplots.AxesSubplot at 0x122e253c8>"
      ]
     },
     "execution_count": 61,
     "metadata": {},
     "output_type": "execute_result"
    },
    {
     "data": {
      "image/png": "[encoded data removed]",
      "text/plain": [
       "<matplotlib.figure.Figure at 0x122e0b588>"
      ]
     },
     "metadata": {},
     "output_type": "display_data"
    }
   ],
   "source": [
    "shot_and_game_result_by_matchup.boxplot(column='make_percent', by='W',figsize=(12,8))"
   ]
  },
  {
   "cell_type": "code",
   "execution_count": null,
   "metadata": {
    "collapsed": true
   },
   "outputs": [],
   "source": []
  },
  {
   "cell_type": "markdown",
   "metadata": {},
   "source": [
    "## Part3: Questions comparing two teams in one game."
   ]
  },
  {
   "cell_type": "markdown",
   "metadata": {},
   "source": [
    "### Q 3.1: How often did the winning team will have a lower make percentage than the losing team"
   ]
  },
  {
   "cell_type": "markdown",
   "metadata": {},
   "source": [
    "Here it looks like we need to compare two rows in the shot_and_game_result_by_matchup dataframe. Don't do that! Remember that columns are for comparing not rows. Let me say that again \n",
    "\n",
    "## compare columns not rows!!!\n",
    "\n",
    "\n",
    "ok so how do we turn two rows into two columns?"
   ]
  },
  {
   "cell_type": "code",
   "execution_count": 95,
   "metadata": {
    "collapsed": true
   },
   "outputs": [],
   "source": [
    "shot_result_by_gameid_and_w = \\\n",
    "df.groupby(['GAME_ID','W','SHOT_RESULT']).size().unstack()"
   ]
  },
  {
   "cell_type": "code",
   "execution_count": 96,
   "metadata": {},
   "outputs": [
    {
     "data": {
      "text/html": [
       "<div>\n",
       "<table border=\"1\" class=\"dataframe\">\n",
       "  <thead>\n",
       "    <tr style=\"text-align: right;\">\n",
       "      <th></th>\n",
       "      <th>SHOT_RESULT</th>\n",
       "      <th>made</th>\n",
       "      <th>missed</th>\n",
       "      <th>make_percent</th>\n",
       "    </tr>\n",
       "    <tr>\n",
       "      <th>GAME_ID</th>\n",
       "      <th>W</th>\n",
       "      <th></th>\n",
       "      <th></th>\n",
       "      <th></th>\n",
       "    </tr>\n",
       "  </thead>\n",
       "  <tbody>\n",
       "    <tr>\n",
       "      <th rowspan=\"2\" valign=\"top\">21400001</th>\n",
       "      <th>L</th>\n",
       "      <td>29</td>\n",
       "      <td>46</td>\n",
       "      <td>0.386667</td>\n",
       "    </tr>\n",
       "    <tr>\n",
       "      <th>W</th>\n",
       "      <td>36</td>\n",
       "      <td>51</td>\n",
       "      <td>0.413793</td>\n",
       "    </tr>\n",
       "    <tr>\n",
       "      <th rowspan=\"2\" valign=\"top\">21400002</th>\n",
       "      <th>L</th>\n",
       "      <td>31</td>\n",
       "      <td>36</td>\n",
       "      <td>0.462687</td>\n",
       "    </tr>\n",
       "    <tr>\n",
       "      <th>W</th>\n",
       "      <td>37</td>\n",
       "      <td>33</td>\n",
       "      <td>0.528571</td>\n",
       "    </tr>\n",
       "  </tbody>\n",
       "</table>\n",
       "</div>"
      ],
      "text/plain": [
       "SHOT_RESULT  made  missed  make_percent\n",
       "GAME_ID  W                             \n",
       "21400001 L     29      46      0.386667\n",
       "         W     36      51      0.413793\n",
       "21400002 L     31      36      0.462687\n",
       "         W     37      33      0.528571"
      ]
     },
     "execution_count": 96,
     "metadata": {},
     "output_type": "execute_result"
    }
   ],
   "source": [
    "shot_result_by_matchup_gameid.head(4)"
   ]
  },
  {
   "cell_type": "code",
   "execution_count": 97,
   "metadata": {
    "collapsed": true
   },
   "outputs": [],
   "source": [
    "shot_result_by_gameid_and_w['make_percent'] = \\\n",
    "round((shot_result_by_gameid_and_w['made']/\\\n",
    "       shot_result_by_gameid_and_w.sum(axis=1))*100,1)"
   ]
  },
  {
   "cell_type": "code",
   "execution_count": 98,
   "metadata": {},
   "outputs": [
    {
     "data": {
      "text/html": [
       "<div>\n",
       "<table border=\"1\" class=\"dataframe\">\n",
       "  <thead>\n",
       "    <tr style=\"text-align: right;\">\n",
       "      <th></th>\n",
       "      <th>SHOT_RESULT</th>\n",
       "      <th>made</th>\n",
       "      <th>missed</th>\n",
       "      <th>make_percent</th>\n",
       "    </tr>\n",
       "    <tr>\n",
       "      <th>GAME_ID</th>\n",
       "      <th>W</th>\n",
       "      <th></th>\n",
       "      <th></th>\n",
       "      <th></th>\n",
       "    </tr>\n",
       "  </thead>\n",
       "  <tbody>\n",
       "    <tr>\n",
       "      <th rowspan=\"2\" valign=\"top\">21400001</th>\n",
       "      <th>L</th>\n",
       "      <td>29</td>\n",
       "      <td>46</td>\n",
       "      <td>38.7</td>\n",
       "    </tr>\n",
       "    <tr>\n",
       "      <th>W</th>\n",
       "      <td>36</td>\n",
       "      <td>51</td>\n",
       "      <td>41.4</td>\n",
       "    </tr>\n",
       "    <tr>\n",
       "      <th rowspan=\"2\" valign=\"top\">21400002</th>\n",
       "      <th>L</th>\n",
       "      <td>31</td>\n",
       "      <td>36</td>\n",
       "      <td>46.3</td>\n",
       "    </tr>\n",
       "    <tr>\n",
       "      <th>W</th>\n",
       "      <td>37</td>\n",
       "      <td>33</td>\n",
       "      <td>52.9</td>\n",
       "    </tr>\n",
       "  </tbody>\n",
       "</table>\n",
       "</div>"
      ],
      "text/plain": [
       "SHOT_RESULT  made  missed  make_percent\n",
       "GAME_ID  W                             \n",
       "21400001 L     29      46          38.7\n",
       "         W     36      51          41.4\n",
       "21400002 L     31      36          46.3\n",
       "         W     37      33          52.9"
      ]
     },
     "execution_count": 98,
     "metadata": {},
     "output_type": "execute_result"
    }
   ],
   "source": [
    "shot_result_by_gameid_and_w.head(4)"
   ]
  },
  {
   "cell_type": "code",
   "execution_count": 101,
   "metadata": {
    "collapsed": true
   },
   "outputs": [],
   "source": [
    "shot_result_by_gameid_and_w = \\\n",
    "shot_result_by_gameid_and_w.reset_index()"
   ]
  },
  {
   "cell_type": "code",
   "execution_count": 84,
   "metadata": {},
   "outputs": [
    {
     "data": {
      "text/html": [
       "<div>\n",
       "<table border=\"1\" class=\"dataframe\">\n",
       "  <thead>\n",
       "    <tr style=\"text-align: right;\">\n",
       "      <th>SHOT_RESULT</th>\n",
       "      <th>GAME_ID</th>\n",
       "      <th>W</th>\n",
       "      <th>make_percent</th>\n",
       "    </tr>\n",
       "  </thead>\n",
       "  <tbody>\n",
       "    <tr>\n",
       "      <th>0</th>\n",
       "      <td>21400001</td>\n",
       "      <td>L</td>\n",
       "      <td>38.7</td>\n",
       "    </tr>\n",
       "    <tr>\n",
       "      <th>1</th>\n",
       "      <td>21400001</td>\n",
       "      <td>W</td>\n",
       "      <td>41.4</td>\n",
       "    </tr>\n",
       "    <tr>\n",
       "      <th>2</th>\n",
       "      <td>21400002</td>\n",
       "      <td>L</td>\n",
       "      <td>46.3</td>\n",
       "    </tr>\n",
       "    <tr>\n",
       "      <th>3</th>\n",
       "      <td>21400002</td>\n",
       "      <td>W</td>\n",
       "      <td>52.9</td>\n",
       "    </tr>\n",
       "  </tbody>\n",
       "</table>\n",
       "</div>"
      ],
      "text/plain": [
       "SHOT_RESULT   GAME_ID  W  make_percent\n",
       "0            21400001  L          38.7\n",
       "1            21400001  W          41.4\n",
       "2            21400002  L          46.3\n",
       "3            21400002  W          52.9"
      ]
     },
     "execution_count": 84,
     "metadata": {},
     "output_type": "execute_result"
    }
   ],
   "source": [
    "shot_result_by_gameid_and_w.head(4)"
   ]
  },
  {
   "cell_type": "code",
   "execution_count": 85,
   "metadata": {
    "collapsed": true
   },
   "outputs": [],
   "source": [
    "make_percent_by_gameid = \\\n",
    "shot_result_by_gameid_and_w.pivot(index='GAME_ID', columns='W')"
   ]
  },
  {
   "cell_type": "code",
   "execution_count": 106,
   "metadata": {},
   "outputs": [
    {
     "data": {
      "text/html": [
       "<div>\n",
       "<table border=\"1\" class=\"dataframe\">\n",
       "  <thead>\n",
       "    <tr>\n",
       "      <th>SHOT_RESULT</th>\n",
       "      <th colspan=\"2\" halign=\"left\">made</th>\n",
       "      <th colspan=\"2\" halign=\"left\">missed</th>\n",
       "      <th colspan=\"2\" halign=\"left\">make_percent</th>\n",
       "    </tr>\n",
       "    <tr>\n",
       "      <th>W</th>\n",
       "      <th>L</th>\n",
       "      <th>W</th>\n",
       "      <th>L</th>\n",
       "      <th>W</th>\n",
       "      <th>L</th>\n",
       "      <th>W</th>\n",
       "    </tr>\n",
       "    <tr>\n",
       "      <th>GAME_ID</th>\n",
       "      <th></th>\n",
       "      <th></th>\n",
       "      <th></th>\n",
       "      <th></th>\n",
       "      <th></th>\n",
       "      <th></th>\n",
       "    </tr>\n",
       "  </thead>\n",
       "  <tbody>\n",
       "    <tr>\n",
       "      <th>21400001</th>\n",
       "      <td>29</td>\n",
       "      <td>36</td>\n",
       "      <td>46</td>\n",
       "      <td>51</td>\n",
       "      <td>38.7</td>\n",
       "      <td>41.4</td>\n",
       "    </tr>\n",
       "    <tr>\n",
       "      <th>21400002</th>\n",
       "      <td>31</td>\n",
       "      <td>37</td>\n",
       "      <td>36</td>\n",
       "      <td>33</td>\n",
       "      <td>46.3</td>\n",
       "      <td>52.9</td>\n",
       "    </tr>\n",
       "    <tr>\n",
       "      <th>21400003</th>\n",
       "      <td>26</td>\n",
       "      <td>22</td>\n",
       "      <td>42</td>\n",
       "      <td>27</td>\n",
       "      <td>38.2</td>\n",
       "      <td>44.9</td>\n",
       "    </tr>\n",
       "    <tr>\n",
       "      <th>21400004</th>\n",
       "      <td>28</td>\n",
       "      <td>41</td>\n",
       "      <td>32</td>\n",
       "      <td>60</td>\n",
       "      <td>46.7</td>\n",
       "      <td>40.6</td>\n",
       "    </tr>\n",
       "    <tr>\n",
       "      <th>21400005</th>\n",
       "      <td>9</td>\n",
       "      <td>36</td>\n",
       "      <td>25</td>\n",
       "      <td>41</td>\n",
       "      <td>26.5</td>\n",
       "      <td>46.8</td>\n",
       "    </tr>\n",
       "  </tbody>\n",
       "</table>\n",
       "</div>"
      ],
      "text/plain": [
       "SHOT_RESULT made     missed     make_percent      \n",
       "W              L   W      L   W            L     W\n",
       "GAME_ID                                           \n",
       "21400001      29  36     46  51         38.7  41.4\n",
       "21400002      31  37     36  33         46.3  52.9\n",
       "21400003      26  22     42  27         38.2  44.9\n",
       "21400004      28  41     32  60         46.7  40.6\n",
       "21400005       9  36     25  41         26.5  46.8"
      ]
     },
     "execution_count": 106,
     "metadata": {},
     "output_type": "execute_result"
    }
   ],
   "source": [
    "make_percent_by_gameid.head()"
   ]
  },
  {
   "cell_type": "code",
   "execution_count": 107,
   "metadata": {},
   "outputs": [
    {
     "data": {
      "text/html": [
       "<div>\n",
       "<table border=\"1\" class=\"dataframe\">\n",
       "  <thead>\n",
       "    <tr>\n",
       "      <th>SHOT_RESULT</th>\n",
       "      <th colspan=\"2\" halign=\"left\">made</th>\n",
       "      <th colspan=\"2\" halign=\"left\">missed</th>\n",
       "      <th colspan=\"2\" halign=\"left\">make_percent</th>\n",
       "    </tr>\n",
       "    <tr>\n",
       "      <th>W</th>\n",
       "      <th>L</th>\n",
       "      <th>W</th>\n",
       "      <th>L</th>\n",
       "      <th>W</th>\n",
       "      <th>L</th>\n",
       "      <th>W</th>\n",
       "    </tr>\n",
       "    <tr>\n",
       "      <th>GAME_ID</th>\n",
       "      <th></th>\n",
       "      <th></th>\n",
       "      <th></th>\n",
       "      <th></th>\n",
       "      <th></th>\n",
       "      <th></th>\n",
       "    </tr>\n",
       "  </thead>\n",
       "  <tbody>\n",
       "    <tr>\n",
       "      <th>21400004</th>\n",
       "      <td>28</td>\n",
       "      <td>41</td>\n",
       "      <td>32</td>\n",
       "      <td>60</td>\n",
       "      <td>46.7</td>\n",
       "      <td>40.6</td>\n",
       "    </tr>\n",
       "    <tr>\n",
       "      <th>21400008</th>\n",
       "      <td>38</td>\n",
       "      <td>33</td>\n",
       "      <td>35</td>\n",
       "      <td>41</td>\n",
       "      <td>52.1</td>\n",
       "      <td>44.6</td>\n",
       "    </tr>\n",
       "    <tr>\n",
       "      <th>21400011</th>\n",
       "      <td>21</td>\n",
       "      <td>27</td>\n",
       "      <td>38</td>\n",
       "      <td>50</td>\n",
       "      <td>35.6</td>\n",
       "      <td>35.1</td>\n",
       "    </tr>\n",
       "    <tr>\n",
       "      <th>21400016</th>\n",
       "      <td>33</td>\n",
       "      <td>36</td>\n",
       "      <td>31</td>\n",
       "      <td>35</td>\n",
       "      <td>51.6</td>\n",
       "      <td>50.7</td>\n",
       "    </tr>\n",
       "    <tr>\n",
       "      <th>21400020</th>\n",
       "      <td>15</td>\n",
       "      <td>34</td>\n",
       "      <td>21</td>\n",
       "      <td>49</td>\n",
       "      <td>41.7</td>\n",
       "      <td>41.0</td>\n",
       "    </tr>\n",
       "  </tbody>\n",
       "</table>\n",
       "</div>"
      ],
      "text/plain": [
       "SHOT_RESULT made     missed     make_percent      \n",
       "W              L   W      L   W            L     W\n",
       "GAME_ID                                           \n",
       "21400004      28  41     32  60         46.7  40.6\n",
       "21400008      38  33     35  41         52.1  44.6\n",
       "21400011      21  27     38  50         35.6  35.1\n",
       "21400016      33  36     31  35         51.6  50.7\n",
       "21400020      15  34     21  49         41.7  41.0"
      ]
     },
     "execution_count": 107,
     "metadata": {},
     "output_type": "execute_result"
    }
   ],
   "source": [
    "make_percent_by_gameid[\\\n",
    "make_percent_by_gameid['make_percent']['W']<\\\n",
    "make_percent_by_gameid['make_percent']['L']].head()"
   ]
  },
  {
   "cell_type": "code",
   "execution_count": 108,
   "metadata": {},
   "outputs": [
    {
     "data": {
      "text/plain": [
       "197"
      ]
     },
     "execution_count": 108,
     "metadata": {},
     "output_type": "execute_result"
    }
   ],
   "source": [
    "len(make_percent_by_gameid[\\\n",
    "make_percent_by_gameid['make_percent']['W']<\\\n",
    "make_percent_by_gameid['make_percent']['L']])"
   ]
  },
  {
   "cell_type": "code",
   "execution_count": 109,
   "metadata": {},
   "outputs": [
    {
     "data": {
      "text/plain": [
       "904"
      ]
     },
     "execution_count": 109,
     "metadata": {},
     "output_type": "execute_result"
    }
   ],
   "source": [
    "len(make_percent_by_gameid)"
   ]
  },
  {
   "cell_type": "code",
   "execution_count": 110,
   "metadata": {},
   "outputs": [
    {
     "data": {
      "text/plain": [
       "21.792035398230087"
      ]
     },
     "execution_count": 110,
     "metadata": {},
     "output_type": "execute_result"
    }
   ],
   "source": [
    "(197./904)*100"
   ]
  },
  {
   "cell_type": "markdown",
   "metadata": {},
   "source": [
    "So about %22 of the time the game is won by the team that has the lower make percentage."
   ]
  },
  {
   "cell_type": "code",
   "execution_count": null,
   "metadata": {
    "collapsed": true
   },
   "outputs": [],
   "source": []
  }
 ],
 "metadata": {
  "kernelspec": {
   "display_name": "Python 3",
   "language": "python",
   "name": "python3"
  },
  "language_info": {
   "codemirror_mode": {
    "name": "ipython",
    "version": 3
   },
   "file_extension": ".py",
   "mimetype": "text/x-python",
   "name": "python",
   "nbconvert_exporter": "python",
   "pygments_lexer": "ipython3",
   "version": "3.6.0"
  }
 },
 "nbformat": 4,
 "nbformat_minor": 2
}
