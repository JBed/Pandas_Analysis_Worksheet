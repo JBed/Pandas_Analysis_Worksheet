{
 "cells": [
  {
   "cell_type": "markdown",
   "metadata": {},
   "source": [
    "# Pandas Data Analysis Worksheet Part 1\n",
    "> by Jason Bedford http://jbedford.net/"
   ]
  },
  {
   "cell_type": "markdown",
   "metadata": {},
   "source": [
    "### This Worksheet focused on simple counting and groupby operations"
   ]
  },
  {
   "cell_type": "code",
   "execution_count": 1,
   "metadata": {
    "collapsed": true
   },
   "outputs": [],
   "source": [
    "import pandas as pd\n",
    "%matplotlib inline"
   ]
  },
  {
   "cell_type": "markdown",
   "metadata": {},
   "source": [
    "### Get the data here: https://www.kaggle.com/dansbecker/nba-shot-logs"
   ]
  },
  {
   "cell_type": "code",
   "execution_count": 2,
   "metadata": {
    "collapsed": true
   },
   "outputs": [],
   "source": [
    "df = pd.read_csv('nba-shot-logs.zip')"
   ]
  },
  {
   "cell_type": "code",
   "execution_count": 3,
   "metadata": {},
   "outputs": [
    {
     "data": {
      "text/html": [
       "<div>\n",
       "<table border=\"1\" class=\"dataframe\">\n",
       "  <thead>\n",
       "    <tr style=\"text-align: right;\">\n",
       "      <th></th>\n",
       "      <th>GAME_ID</th>\n",
       "      <th>MATCHUP</th>\n",
       "      <th>LOCATION</th>\n",
       "      <th>W</th>\n",
       "      <th>FINAL_MARGIN</th>\n",
       "      <th>SHOT_NUMBER</th>\n",
       "      <th>PERIOD</th>\n",
       "      <th>GAME_CLOCK</th>\n",
       "      <th>SHOT_CLOCK</th>\n",
       "      <th>DRIBBLES</th>\n",
       "      <th>...</th>\n",
       "      <th>SHOT_DIST</th>\n",
       "      <th>PTS_TYPE</th>\n",
       "      <th>SHOT_RESULT</th>\n",
       "      <th>CLOSEST_DEFENDER</th>\n",
       "      <th>CLOSEST_DEFENDER_PLAYER_ID</th>\n",
       "      <th>CLOSE_DEF_DIST</th>\n",
       "      <th>FGM</th>\n",
       "      <th>PTS</th>\n",
       "      <th>player_name</th>\n",
       "      <th>player_id</th>\n",
       "    </tr>\n",
       "  </thead>\n",
       "  <tbody>\n",
       "    <tr>\n",
       "      <th>0</th>\n",
       "      <td>21400899</td>\n",
       "      <td>MAR 04, 2015 - CHA @ BKN</td>\n",
       "      <td>A</td>\n",
       "      <td>W</td>\n",
       "      <td>24</td>\n",
       "      <td>1</td>\n",
       "      <td>1</td>\n",
       "      <td>1:09</td>\n",
       "      <td>10.8</td>\n",
       "      <td>2</td>\n",
       "      <td>...</td>\n",
       "      <td>7.7</td>\n",
       "      <td>2</td>\n",
       "      <td>made</td>\n",
       "      <td>Anderson, Alan</td>\n",
       "      <td>101187</td>\n",
       "      <td>1.3</td>\n",
       "      <td>1</td>\n",
       "      <td>2</td>\n",
       "      <td>brian roberts</td>\n",
       "      <td>203148</td>\n",
       "    </tr>\n",
       "    <tr>\n",
       "      <th>1</th>\n",
       "      <td>21400899</td>\n",
       "      <td>MAR 04, 2015 - CHA @ BKN</td>\n",
       "      <td>A</td>\n",
       "      <td>W</td>\n",
       "      <td>24</td>\n",
       "      <td>2</td>\n",
       "      <td>1</td>\n",
       "      <td>0:14</td>\n",
       "      <td>3.4</td>\n",
       "      <td>0</td>\n",
       "      <td>...</td>\n",
       "      <td>28.2</td>\n",
       "      <td>3</td>\n",
       "      <td>missed</td>\n",
       "      <td>Bogdanovic, Bojan</td>\n",
       "      <td>202711</td>\n",
       "      <td>6.1</td>\n",
       "      <td>0</td>\n",
       "      <td>0</td>\n",
       "      <td>brian roberts</td>\n",
       "      <td>203148</td>\n",
       "    </tr>\n",
       "    <tr>\n",
       "      <th>2</th>\n",
       "      <td>21400899</td>\n",
       "      <td>MAR 04, 2015 - CHA @ BKN</td>\n",
       "      <td>A</td>\n",
       "      <td>W</td>\n",
       "      <td>24</td>\n",
       "      <td>3</td>\n",
       "      <td>1</td>\n",
       "      <td>0:00</td>\n",
       "      <td>NaN</td>\n",
       "      <td>3</td>\n",
       "      <td>...</td>\n",
       "      <td>10.1</td>\n",
       "      <td>2</td>\n",
       "      <td>missed</td>\n",
       "      <td>Bogdanovic, Bojan</td>\n",
       "      <td>202711</td>\n",
       "      <td>0.9</td>\n",
       "      <td>0</td>\n",
       "      <td>0</td>\n",
       "      <td>brian roberts</td>\n",
       "      <td>203148</td>\n",
       "    </tr>\n",
       "    <tr>\n",
       "      <th>3</th>\n",
       "      <td>21400899</td>\n",
       "      <td>MAR 04, 2015 - CHA @ BKN</td>\n",
       "      <td>A</td>\n",
       "      <td>W</td>\n",
       "      <td>24</td>\n",
       "      <td>4</td>\n",
       "      <td>2</td>\n",
       "      <td>11:47</td>\n",
       "      <td>10.3</td>\n",
       "      <td>2</td>\n",
       "      <td>...</td>\n",
       "      <td>17.2</td>\n",
       "      <td>2</td>\n",
       "      <td>missed</td>\n",
       "      <td>Brown, Markel</td>\n",
       "      <td>203900</td>\n",
       "      <td>3.4</td>\n",
       "      <td>0</td>\n",
       "      <td>0</td>\n",
       "      <td>brian roberts</td>\n",
       "      <td>203148</td>\n",
       "    </tr>\n",
       "    <tr>\n",
       "      <th>4</th>\n",
       "      <td>21400899</td>\n",
       "      <td>MAR 04, 2015 - CHA @ BKN</td>\n",
       "      <td>A</td>\n",
       "      <td>W</td>\n",
       "      <td>24</td>\n",
       "      <td>5</td>\n",
       "      <td>2</td>\n",
       "      <td>10:34</td>\n",
       "      <td>10.9</td>\n",
       "      <td>2</td>\n",
       "      <td>...</td>\n",
       "      <td>3.7</td>\n",
       "      <td>2</td>\n",
       "      <td>missed</td>\n",
       "      <td>Young, Thaddeus</td>\n",
       "      <td>201152</td>\n",
       "      <td>1.1</td>\n",
       "      <td>0</td>\n",
       "      <td>0</td>\n",
       "      <td>brian roberts</td>\n",
       "      <td>203148</td>\n",
       "    </tr>\n",
       "  </tbody>\n",
       "</table>\n",
       "<p>5 rows × 21 columns</p>\n",
       "</div>"
      ],
      "text/plain": [
       "    GAME_ID                   MATCHUP LOCATION  W  FINAL_MARGIN  SHOT_NUMBER  \\\n",
       "0  21400899  MAR 04, 2015 - CHA @ BKN        A  W            24            1   \n",
       "1  21400899  MAR 04, 2015 - CHA @ BKN        A  W            24            2   \n",
       "2  21400899  MAR 04, 2015 - CHA @ BKN        A  W            24            3   \n",
       "3  21400899  MAR 04, 2015 - CHA @ BKN        A  W            24            4   \n",
       "4  21400899  MAR 04, 2015 - CHA @ BKN        A  W            24            5   \n",
       "\n",
       "   PERIOD GAME_CLOCK  SHOT_CLOCK  DRIBBLES    ...     SHOT_DIST  PTS_TYPE  \\\n",
       "0       1       1:09        10.8         2    ...           7.7         2   \n",
       "1       1       0:14         3.4         0    ...          28.2         3   \n",
       "2       1       0:00         NaN         3    ...          10.1         2   \n",
       "3       2      11:47        10.3         2    ...          17.2         2   \n",
       "4       2      10:34        10.9         2    ...           3.7         2   \n",
       "\n",
       "   SHOT_RESULT   CLOSEST_DEFENDER CLOSEST_DEFENDER_PLAYER_ID  CLOSE_DEF_DIST  \\\n",
       "0         made     Anderson, Alan                     101187             1.3   \n",
       "1       missed  Bogdanovic, Bojan                     202711             6.1   \n",
       "2       missed  Bogdanovic, Bojan                     202711             0.9   \n",
       "3       missed      Brown, Markel                     203900             3.4   \n",
       "4       missed    Young, Thaddeus                     201152             1.1   \n",
       "\n",
       "   FGM  PTS    player_name player_id  \n",
       "0    1    2  brian roberts    203148  \n",
       "1    0    0  brian roberts    203148  \n",
       "2    0    0  brian roberts    203148  \n",
       "3    0    0  brian roberts    203148  \n",
       "4    0    0  brian roberts    203148  \n",
       "\n",
       "[5 rows x 21 columns]"
      ]
     },
     "execution_count": 3,
     "metadata": {},
     "output_type": "execute_result"
    }
   ],
   "source": [
    "df.head()"
   ]
  },
  {
   "cell_type": "markdown",
   "metadata": {},
   "source": [
    "#### The data is structured so that each row corresponds to one shot taking during the 2014-2015 NBA season (We exclude free throws). The columns are information about that shot and are described below."
   ]
  },
  {
   "cell_type": "code",
   "execution_count": 4,
   "metadata": {},
   "outputs": [
    {
     "data": {
      "text/plain": [
       "Index(['GAME_ID', 'MATCHUP', 'LOCATION', 'W', 'FINAL_MARGIN', 'SHOT_NUMBER',\n",
       "       'PERIOD', 'GAME_CLOCK', 'SHOT_CLOCK', 'DRIBBLES', 'TOUCH_TIME',\n",
       "       'SHOT_DIST', 'PTS_TYPE', 'SHOT_RESULT', 'CLOSEST_DEFENDER',\n",
       "       'CLOSEST_DEFENDER_PLAYER_ID', 'CLOSE_DEF_DIST', 'FGM', 'PTS',\n",
       "       'player_name', 'player_id'],\n",
       "      dtype='object')"
      ]
     },
     "execution_count": 4,
     "metadata": {},
     "output_type": "execute_result"
    }
   ],
   "source": [
    "df.columns"
   ]
  },
  {
   "cell_type": "markdown",
   "metadata": {},
   "source": [
    "\n",
    "'GAME_ID': just a unique number for each game in the season\n",
    "\n",
    "'MATCHUP': who v. who also date info in here\n",
    "\n",
    "'LOCATION': H=home, A=away\n",
    "\n",
    "'W': did the team that the player shooting plays for win\n",
    "\n",
    "'FINAL_MARGIN': yeah \n",
    "\n",
    "'SHOT_NUMBER': of the game\n",
    "\n",
    "'PERIOD': of the game\n",
    "\n",
    "'GAME_CLOCK': yeah\n",
    "\n",
    "'SHOT_CLOCK': yeah\n",
    "\n",
    "'DRIBBLES': yeah\n",
    "\n",
    "'TOUCH_TIME': yeah\n",
    "\n",
    "'SHOT_DIST': yeah \n",
    "\n",
    "'PTS_TYPE': yeah the number of points that correspond to the shot\n",
    "\n",
    "'SHOT_RESULT': yeah \n",
    "\n",
    "'CLOSEST_DEFENDER': yeah\n",
    "\n",
    "'CLOSEST_DEFENDER_PLAYER_ID': yeah \n",
    "\n",
    "'CLOSE_DEF_DIST': yeah \n",
    "\n",
    "'FGM': Field Goals Made\n",
    "\n",
    "'PTS': this is redundant if the show was made it is the PTS_TYPE else it's zero\n",
    "\n",
    "'player_name': yeah the one shooting\n",
    "\n",
    "'player_id': yeah the one shooting"
   ]
  },
  {
   "cell_type": "markdown",
   "metadata": {},
   "source": [
    "## Question 1: which team took the most and least shots in a game (for all games in the season)"
   ]
  },
  {
   "cell_type": "code",
   "execution_count": 5,
   "metadata": {},
   "outputs": [
    {
     "data": {
      "text/html": [
       "<div>\n",
       "<table border=\"1\" class=\"dataframe\">\n",
       "  <thead>\n",
       "    <tr style=\"text-align: right;\">\n",
       "      <th></th>\n",
       "      <th>MATCHUP</th>\n",
       "    </tr>\n",
       "  </thead>\n",
       "  <tbody>\n",
       "    <tr>\n",
       "      <th>FEB 07, 2015 - DAL vs. POR</th>\n",
       "      <td>105</td>\n",
       "    </tr>\n",
       "    <tr>\n",
       "      <th>JAN 29, 2015 - CHI @ LAL</th>\n",
       "      <td>103</td>\n",
       "    </tr>\n",
       "    <tr>\n",
       "      <th>NOV 30, 2014 - TOR @ LAL</th>\n",
       "      <td>102</td>\n",
       "    </tr>\n",
       "    <tr>\n",
       "      <th>DEC 03, 2014 - SAS @ BKN</th>\n",
       "      <td>101</td>\n",
       "    </tr>\n",
       "    <tr>\n",
       "      <th>OCT 29, 2014 - CHA vs. MIL</th>\n",
       "      <td>101</td>\n",
       "    </tr>\n",
       "  </tbody>\n",
       "</table>\n",
       "</div>"
      ],
      "text/plain": [
       "                            MATCHUP\n",
       "FEB 07, 2015 - DAL vs. POR      105\n",
       "JAN 29, 2015 - CHI @ LAL        103\n",
       "NOV 30, 2014 - TOR @ LAL        102\n",
       "DEC 03, 2014 - SAS @ BKN        101\n",
       "OCT 29, 2014 - CHA vs. MIL      101"
      ]
     },
     "execution_count": 5,
     "metadata": {},
     "output_type": "execute_result"
    }
   ],
   "source": [
    "df['MATCHUP'].value_counts().to_frame().head()"
   ]
  },
  {
   "cell_type": "code",
   "execution_count": 6,
   "metadata": {},
   "outputs": [
    {
     "data": {
      "text/html": [
       "<div>\n",
       "<table border=\"1\" class=\"dataframe\">\n",
       "  <thead>\n",
       "    <tr style=\"text-align: right;\">\n",
       "      <th></th>\n",
       "      <th>MATCHUP</th>\n",
       "    </tr>\n",
       "  </thead>\n",
       "  <tbody>\n",
       "    <tr>\n",
       "      <th>FEB 09, 2015 - PHI vs. GSW</th>\n",
       "      <td>10</td>\n",
       "    </tr>\n",
       "    <tr>\n",
       "      <th>FEB 09, 2015 - GSW @ PHI</th>\n",
       "      <td>11</td>\n",
       "    </tr>\n",
       "    <tr>\n",
       "      <th>MAR 04, 2015 - NYK @ IND</th>\n",
       "      <td>25</td>\n",
       "    </tr>\n",
       "    <tr>\n",
       "      <th>FEB 28, 2015 - NYK vs. TOR</th>\n",
       "      <td>27</td>\n",
       "    </tr>\n",
       "    <tr>\n",
       "      <th>FEB 23, 2015 - MIN @ HOU</th>\n",
       "      <td>33</td>\n",
       "    </tr>\n",
       "  </tbody>\n",
       "</table>\n",
       "</div>"
      ],
      "text/plain": [
       "                            MATCHUP\n",
       "FEB 09, 2015 - PHI vs. GSW       10\n",
       "FEB 09, 2015 - GSW @ PHI         11\n",
       "MAR 04, 2015 - NYK @ IND         25\n",
       "FEB 28, 2015 - NYK vs. TOR       27\n",
       "FEB 23, 2015 - MIN @ HOU         33"
      ]
     },
     "execution_count": 6,
     "metadata": {},
     "output_type": "execute_result"
    }
   ],
   "source": [
    "df['MATCHUP'].value_counts(ascending=True).to_frame().head()"
   ]
  },
  {
   "cell_type": "markdown",
   "metadata": {},
   "source": [
    "### note that value_counts will sort the resultant pandas series in decending order by default."
   ]
  },
  {
   "cell_type": "code",
   "execution_count": null,
   "metadata": {
    "collapsed": true
   },
   "outputs": [],
   "source": []
  },
  {
   "cell_type": "markdown",
   "metadata": {},
   "source": [
    "## Question 2a: which team made the most and least shots in a game (for all games in the season)"
   ]
  },
  {
   "cell_type": "code",
   "execution_count": 7,
   "metadata": {},
   "outputs": [
    {
     "data": {
      "text/html": [
       "<div>\n",
       "<table border=\"1\" class=\"dataframe\">\n",
       "  <thead>\n",
       "    <tr style=\"text-align: right;\">\n",
       "      <th>SHOT_RESULT</th>\n",
       "      <th>made</th>\n",
       "      <th>missed</th>\n",
       "    </tr>\n",
       "    <tr>\n",
       "      <th>MATCHUP</th>\n",
       "      <th></th>\n",
       "      <th></th>\n",
       "    </tr>\n",
       "  </thead>\n",
       "  <tbody>\n",
       "    <tr>\n",
       "      <th>DEC 01, 2014 - DEN @ UTA</th>\n",
       "      <td>39</td>\n",
       "      <td>41</td>\n",
       "    </tr>\n",
       "    <tr>\n",
       "      <th>DEC 01, 2014 - LAC vs. MIN</th>\n",
       "      <td>36</td>\n",
       "      <td>33</td>\n",
       "    </tr>\n",
       "    <tr>\n",
       "      <th>DEC 01, 2014 - MIA @ WAS</th>\n",
       "      <td>31</td>\n",
       "      <td>35</td>\n",
       "    </tr>\n",
       "    <tr>\n",
       "      <th>DEC 01, 2014 - MIN @ LAC</th>\n",
       "      <td>30</td>\n",
       "      <td>38</td>\n",
       "    </tr>\n",
       "    <tr>\n",
       "      <th>DEC 01, 2014 - PHI vs. SAS</th>\n",
       "      <td>28</td>\n",
       "      <td>37</td>\n",
       "    </tr>\n",
       "  </tbody>\n",
       "</table>\n",
       "</div>"
      ],
      "text/plain": [
       "SHOT_RESULT                 made  missed\n",
       "MATCHUP                                 \n",
       "DEC 01, 2014 - DEN @ UTA      39      41\n",
       "DEC 01, 2014 - LAC vs. MIN    36      33\n",
       "DEC 01, 2014 - MIA @ WAS      31      35\n",
       "DEC 01, 2014 - MIN @ LAC      30      38\n",
       "DEC 01, 2014 - PHI vs. SAS    28      37"
      ]
     },
     "execution_count": 7,
     "metadata": {},
     "output_type": "execute_result"
    }
   ],
   "source": [
    "made_missed_by_game = df.groupby(['MATCHUP', 'SHOT_RESULT']).size().unstack()\n",
    "made_missed_by_game.head()"
   ]
  },
  {
   "cell_type": "code",
   "execution_count": 8,
   "metadata": {},
   "outputs": [
    {
     "data": {
      "text/html": [
       "<div>\n",
       "<table border=\"1\" class=\"dataframe\">\n",
       "  <thead>\n",
       "    <tr style=\"text-align: right;\">\n",
       "      <th>SHOT_RESULT</th>\n",
       "      <th>made</th>\n",
       "      <th>missed</th>\n",
       "    </tr>\n",
       "    <tr>\n",
       "      <th>MATCHUP</th>\n",
       "      <th></th>\n",
       "      <th></th>\n",
       "    </tr>\n",
       "  </thead>\n",
       "  <tbody>\n",
       "    <tr>\n",
       "      <th>FEB 09, 2015 - GSW @ PHI</th>\n",
       "      <td>2</td>\n",
       "      <td>9</td>\n",
       "    </tr>\n",
       "    <tr>\n",
       "      <th>FEB 09, 2015 - PHI vs. GSW</th>\n",
       "      <td>3</td>\n",
       "      <td>7</td>\n",
       "    </tr>\n",
       "    <tr>\n",
       "      <th>MAR 04, 2015 - NYK @ IND</th>\n",
       "      <td>7</td>\n",
       "      <td>18</td>\n",
       "    </tr>\n",
       "    <tr>\n",
       "      <th>OCT 29, 2014 - PHI @ IND</th>\n",
       "      <td>9</td>\n",
       "      <td>25</td>\n",
       "    </tr>\n",
       "    <tr>\n",
       "      <th>FEB 11, 2015 - MIN vs. GSW</th>\n",
       "      <td>11</td>\n",
       "      <td>27</td>\n",
       "    </tr>\n",
       "  </tbody>\n",
       "</table>\n",
       "</div>"
      ],
      "text/plain": [
       "SHOT_RESULT                 made  missed\n",
       "MATCHUP                                 \n",
       "FEB 09, 2015 - GSW @ PHI       2       9\n",
       "FEB 09, 2015 - PHI vs. GSW     3       7\n",
       "MAR 04, 2015 - NYK @ IND       7      18\n",
       "OCT 29, 2014 - PHI @ IND       9      25\n",
       "FEB 11, 2015 - MIN vs. GSW    11      27"
      ]
     },
     "execution_count": 8,
     "metadata": {},
     "output_type": "execute_result"
    }
   ],
   "source": [
    "# now we can sort the one of the columns to get our answers\n",
    "made_missed_by_game.sort_values('made').head()"
   ]
  },
  {
   "cell_type": "code",
   "execution_count": null,
   "metadata": {
    "collapsed": true
   },
   "outputs": [],
   "source": [
    "## note the first few games seems to be too low. this is likely b/c of a cancelled game."
   ]
  },
  {
   "cell_type": "code",
   "execution_count": 9,
   "metadata": {},
   "outputs": [
    {
     "data": {
      "text/html": [
       "<div>\n",
       "<table border=\"1\" class=\"dataframe\">\n",
       "  <thead>\n",
       "    <tr style=\"text-align: right;\">\n",
       "      <th>SHOT_RESULT</th>\n",
       "      <th>made</th>\n",
       "      <th>missed</th>\n",
       "    </tr>\n",
       "    <tr>\n",
       "      <th>MATCHUP</th>\n",
       "      <th></th>\n",
       "      <th></th>\n",
       "    </tr>\n",
       "  </thead>\n",
       "  <tbody>\n",
       "    <tr>\n",
       "      <th>NOV 28, 2014 - LAL vs. MIN</th>\n",
       "      <td>48</td>\n",
       "      <td>41</td>\n",
       "    </tr>\n",
       "    <tr>\n",
       "      <th>DEC 27, 2014 - SAC vs. NYK</th>\n",
       "      <td>48</td>\n",
       "      <td>39</td>\n",
       "    </tr>\n",
       "    <tr>\n",
       "      <th>DEC 08, 2014 - WAS vs. BOS</th>\n",
       "      <td>48</td>\n",
       "      <td>39</td>\n",
       "    </tr>\n",
       "    <tr>\n",
       "      <th>NOV 07, 2014 - CHA vs. ATL</th>\n",
       "      <td>47</td>\n",
       "      <td>46</td>\n",
       "    </tr>\n",
       "    <tr>\n",
       "      <th>JAN 12, 2015 - TOR vs. DET</th>\n",
       "      <td>47</td>\n",
       "      <td>39</td>\n",
       "    </tr>\n",
       "  </tbody>\n",
       "</table>\n",
       "</div>"
      ],
      "text/plain": [
       "SHOT_RESULT                 made  missed\n",
       "MATCHUP                                 \n",
       "NOV 28, 2014 - LAL vs. MIN    48      41\n",
       "DEC 27, 2014 - SAC vs. NYK    48      39\n",
       "DEC 08, 2014 - WAS vs. BOS    48      39\n",
       "NOV 07, 2014 - CHA vs. ATL    47      46\n",
       "JAN 12, 2015 - TOR vs. DET    47      39"
      ]
     },
     "execution_count": 9,
     "metadata": {},
     "output_type": "execute_result"
    }
   ],
   "source": [
    "# and revere our sorting \n",
    "made_missed_by_game.sort_values('made', ascending=False).head()"
   ]
  },
  {
   "cell_type": "code",
   "execution_count": 10,
   "metadata": {},
   "outputs": [
    {
     "data": {
      "text/html": [
       "<div>\n",
       "<table border=\"1\" class=\"dataframe\">\n",
       "  <thead>\n",
       "    <tr style=\"text-align: right;\">\n",
       "      <th>SHOT_RESULT</th>\n",
       "      <th>made</th>\n",
       "      <th>missed</th>\n",
       "    </tr>\n",
       "    <tr>\n",
       "      <th>MATCHUP</th>\n",
       "      <th></th>\n",
       "      <th></th>\n",
       "    </tr>\n",
       "  </thead>\n",
       "  <tbody>\n",
       "    <tr>\n",
       "      <th>FEB 09, 2015 - PHI vs. GSW</th>\n",
       "      <td>3</td>\n",
       "      <td>7</td>\n",
       "    </tr>\n",
       "    <tr>\n",
       "      <th>FEB 09, 2015 - GSW @ PHI</th>\n",
       "      <td>2</td>\n",
       "      <td>9</td>\n",
       "    </tr>\n",
       "    <tr>\n",
       "      <th>FEB 28, 2015 - NYK vs. TOR</th>\n",
       "      <td>13</td>\n",
       "      <td>14</td>\n",
       "    </tr>\n",
       "    <tr>\n",
       "      <th>FEB 20, 2015 - MIN vs. PHX</th>\n",
       "      <td>23</td>\n",
       "      <td>16</td>\n",
       "    </tr>\n",
       "    <tr>\n",
       "      <th>FEB 08, 2015 - MIN @ DET</th>\n",
       "      <td>21</td>\n",
       "      <td>17</td>\n",
       "    </tr>\n",
       "  </tbody>\n",
       "</table>\n",
       "</div>"
      ],
      "text/plain": [
       "SHOT_RESULT                 made  missed\n",
       "MATCHUP                                 \n",
       "FEB 09, 2015 - PHI vs. GSW     3       7\n",
       "FEB 09, 2015 - GSW @ PHI       2       9\n",
       "FEB 28, 2015 - NYK vs. TOR    13      14\n",
       "FEB 20, 2015 - MIN vs. PHX    23      16\n",
       "FEB 08, 2015 - MIN @ DET      21      17"
      ]
     },
     "execution_count": 10,
     "metadata": {},
     "output_type": "execute_result"
    }
   ],
   "source": [
    "# we can ask the same questions for missed shots\n",
    "made_missed_by_game.sort_values('missed').head()"
   ]
  },
  {
   "cell_type": "code",
   "execution_count": 11,
   "metadata": {},
   "outputs": [
    {
     "data": {
      "text/html": [
       "<div>\n",
       "<table border=\"1\" class=\"dataframe\">\n",
       "  <thead>\n",
       "    <tr style=\"text-align: right;\">\n",
       "      <th>SHOT_RESULT</th>\n",
       "      <th>made</th>\n",
       "      <th>missed</th>\n",
       "    </tr>\n",
       "    <tr>\n",
       "      <th>MATCHUP</th>\n",
       "      <th></th>\n",
       "      <th></th>\n",
       "    </tr>\n",
       "  </thead>\n",
       "  <tbody>\n",
       "    <tr>\n",
       "      <th>JAN 17, 2015 - CHA vs. IND</th>\n",
       "      <td>31</td>\n",
       "      <td>65</td>\n",
       "    </tr>\n",
       "    <tr>\n",
       "      <th>DEC 03, 2014 - SAS @ BKN</th>\n",
       "      <td>36</td>\n",
       "      <td>65</td>\n",
       "    </tr>\n",
       "    <tr>\n",
       "      <th>DEC 28, 2014 - NYK @ POR</th>\n",
       "      <td>30</td>\n",
       "      <td>62</td>\n",
       "    </tr>\n",
       "    <tr>\n",
       "      <th>JAN 21, 2015 - WAS vs. OKC</th>\n",
       "      <td>38</td>\n",
       "      <td>62</td>\n",
       "    </tr>\n",
       "    <tr>\n",
       "      <th>FEB 07, 2015 - DAL vs. POR</th>\n",
       "      <td>43</td>\n",
       "      <td>62</td>\n",
       "    </tr>\n",
       "  </tbody>\n",
       "</table>\n",
       "</div>"
      ],
      "text/plain": [
       "SHOT_RESULT                 made  missed\n",
       "MATCHUP                                 \n",
       "JAN 17, 2015 - CHA vs. IND    31      65\n",
       "DEC 03, 2014 - SAS @ BKN      36      65\n",
       "DEC 28, 2014 - NYK @ POR      30      62\n",
       "JAN 21, 2015 - WAS vs. OKC    38      62\n",
       "FEB 07, 2015 - DAL vs. POR    43      62"
      ]
     },
     "execution_count": 11,
     "metadata": {},
     "output_type": "execute_result"
    }
   ],
   "source": [
    "made_missed_by_game.sort_values('missed', ascending=False).head()"
   ]
  },
  {
   "cell_type": "code",
   "execution_count": null,
   "metadata": {
    "collapsed": true
   },
   "outputs": [],
   "source": []
  },
  {
   "cell_type": "markdown",
   "metadata": {},
   "source": [
    "## Question 2b: which team made the most shots as a percentage of all shots taken in a game (for all games in the season)"
   ]
  },
  {
   "cell_type": "code",
   "execution_count": 12,
   "metadata": {
    "collapsed": true
   },
   "outputs": [],
   "source": [
    "# to answer this we're going to make a derived column called make percentage\n",
    "made_missed_by_game['make_percentage'] = \\\n",
    "    made_missed_by_game['made']/(made_missed_by_game.sum(axis=1))"
   ]
  },
  {
   "cell_type": "code",
   "execution_count": 13,
   "metadata": {},
   "outputs": [
    {
     "data": {
      "text/html": [
       "<div>\n",
       "<table border=\"1\" class=\"dataframe\">\n",
       "  <thead>\n",
       "    <tr style=\"text-align: right;\">\n",
       "      <th>SHOT_RESULT</th>\n",
       "      <th>made</th>\n",
       "      <th>missed</th>\n",
       "      <th>make_percentage</th>\n",
       "    </tr>\n",
       "    <tr>\n",
       "      <th>MATCHUP</th>\n",
       "      <th></th>\n",
       "      <th></th>\n",
       "      <th></th>\n",
       "    </tr>\n",
       "  </thead>\n",
       "  <tbody>\n",
       "    <tr>\n",
       "      <th>FEB 09, 2015 - GSW @ PHI</th>\n",
       "      <td>2</td>\n",
       "      <td>9</td>\n",
       "      <td>0.181818</td>\n",
       "    </tr>\n",
       "    <tr>\n",
       "      <th>OCT 29, 2014 - PHI @ IND</th>\n",
       "      <td>9</td>\n",
       "      <td>25</td>\n",
       "      <td>0.264706</td>\n",
       "    </tr>\n",
       "    <tr>\n",
       "      <th>MAR 04, 2015 - NYK @ IND</th>\n",
       "      <td>7</td>\n",
       "      <td>18</td>\n",
       "      <td>0.280000</td>\n",
       "    </tr>\n",
       "    <tr>\n",
       "      <th>NOV 16, 2014 - OKC vs. HOU</th>\n",
       "      <td>13</td>\n",
       "      <td>33</td>\n",
       "      <td>0.282609</td>\n",
       "    </tr>\n",
       "    <tr>\n",
       "      <th>JAN 13, 2015 - LAL vs. MIA</th>\n",
       "      <td>23</td>\n",
       "      <td>58</td>\n",
       "      <td>0.283951</td>\n",
       "    </tr>\n",
       "  </tbody>\n",
       "</table>\n",
       "</div>"
      ],
      "text/plain": [
       "SHOT_RESULT                 made  missed  make_percentage\n",
       "MATCHUP                                                  \n",
       "FEB 09, 2015 - GSW @ PHI       2       9         0.181818\n",
       "OCT 29, 2014 - PHI @ IND       9      25         0.264706\n",
       "MAR 04, 2015 - NYK @ IND       7      18         0.280000\n",
       "NOV 16, 2014 - OKC vs. HOU    13      33         0.282609\n",
       "JAN 13, 2015 - LAL vs. MIA    23      58         0.283951"
      ]
     },
     "execution_count": 13,
     "metadata": {},
     "output_type": "execute_result"
    }
   ],
   "source": [
    "made_missed_by_game.sort_values('make_percentage').head()"
   ]
  },
  {
   "cell_type": "code",
   "execution_count": 14,
   "metadata": {},
   "outputs": [
    {
     "data": {
      "text/html": [
       "<div>\n",
       "<table border=\"1\" class=\"dataframe\">\n",
       "  <thead>\n",
       "    <tr style=\"text-align: right;\">\n",
       "      <th>SHOT_RESULT</th>\n",
       "      <th>made</th>\n",
       "      <th>missed</th>\n",
       "      <th>make_percentage</th>\n",
       "    </tr>\n",
       "    <tr>\n",
       "      <th>MATCHUP</th>\n",
       "      <th></th>\n",
       "      <th></th>\n",
       "      <th></th>\n",
       "    </tr>\n",
       "  </thead>\n",
       "  <tbody>\n",
       "    <tr>\n",
       "      <th>DEC 22, 2014 - SAS vs. LAC</th>\n",
       "      <td>44</td>\n",
       "      <td>25</td>\n",
       "      <td>0.637681</td>\n",
       "    </tr>\n",
       "    <tr>\n",
       "      <th>JAN 16, 2015 - ATL @ TOR</th>\n",
       "      <td>40</td>\n",
       "      <td>23</td>\n",
       "      <td>0.634921</td>\n",
       "    </tr>\n",
       "    <tr>\n",
       "      <th>DEC 07, 2014 - MEM vs. MIA</th>\n",
       "      <td>40</td>\n",
       "      <td>23</td>\n",
       "      <td>0.634921</td>\n",
       "    </tr>\n",
       "    <tr>\n",
       "      <th>NOV 15, 2014 - CLE vs. ATL</th>\n",
       "      <td>39</td>\n",
       "      <td>23</td>\n",
       "      <td>0.629032</td>\n",
       "    </tr>\n",
       "    <tr>\n",
       "      <th>NOV 14, 2014 - NOP vs. MIN</th>\n",
       "      <td>42</td>\n",
       "      <td>25</td>\n",
       "      <td>0.626866</td>\n",
       "    </tr>\n",
       "  </tbody>\n",
       "</table>\n",
       "</div>"
      ],
      "text/plain": [
       "SHOT_RESULT                 made  missed  make_percentage\n",
       "MATCHUP                                                  \n",
       "DEC 22, 2014 - SAS vs. LAC    44      25         0.637681\n",
       "JAN 16, 2015 - ATL @ TOR      40      23         0.634921\n",
       "DEC 07, 2014 - MEM vs. MIA    40      23         0.634921\n",
       "NOV 15, 2014 - CLE vs. ATL    39      23         0.629032\n",
       "NOV 14, 2014 - NOP vs. MIN    42      25         0.626866"
      ]
     },
     "execution_count": 14,
     "metadata": {},
     "output_type": "execute_result"
    }
   ],
   "source": [
    "made_missed_by_game.sort_values('make_percentage', ascending=False).head()"
   ]
  },
  {
   "cell_type": "code",
   "execution_count": null,
   "metadata": {
    "collapsed": true
   },
   "outputs": [],
   "source": []
  },
  {
   "cell_type": "markdown",
   "metadata": {},
   "source": [
    "## Question 3: which team had the lowest make percentage (in a game) but still won that game (for all games in the season)"
   ]
  },
  {
   "cell_type": "code",
   "execution_count": 15,
   "metadata": {
    "collapsed": true
   },
   "outputs": [],
   "source": [
    "# The most straight forward way to do this would be to use the same groupby \n",
    "# as above but to restrict the initial df to contain only 'W' games.\n",
    "made_missed_by_won_game = df[df['W']=='W']\\\n",
    "    .groupby(['MATCHUP', 'SHOT_RESULT']).size().unstack()\n",
    "\n",
    "made_missed_by_won_game['make_percentage'] = \\\n",
    "    made_missed_by_won_game['made']/(made_missed_by_won_game.sum(axis=1))"
   ]
  },
  {
   "cell_type": "code",
   "execution_count": 16,
   "metadata": {},
   "outputs": [
    {
     "data": {
      "text/html": [
       "<div>\n",
       "<table border=\"1\" class=\"dataframe\">\n",
       "  <thead>\n",
       "    <tr style=\"text-align: right;\">\n",
       "      <th>SHOT_RESULT</th>\n",
       "      <th>made</th>\n",
       "      <th>missed</th>\n",
       "      <th>make_percentage</th>\n",
       "    </tr>\n",
       "    <tr>\n",
       "      <th>MATCHUP</th>\n",
       "      <th></th>\n",
       "      <th></th>\n",
       "      <th></th>\n",
       "    </tr>\n",
       "  </thead>\n",
       "  <tbody>\n",
       "    <tr>\n",
       "      <th>FEB 09, 2015 - GSW @ PHI</th>\n",
       "      <td>2</td>\n",
       "      <td>9</td>\n",
       "      <td>0.181818</td>\n",
       "    </tr>\n",
       "    <tr>\n",
       "      <th>NOV 16, 2014 - HOU @ OKC</th>\n",
       "      <td>20</td>\n",
       "      <td>49</td>\n",
       "      <td>0.289855</td>\n",
       "    </tr>\n",
       "    <tr>\n",
       "      <th>JAN 24, 2015 - CHA vs. NYK</th>\n",
       "      <td>23</td>\n",
       "      <td>50</td>\n",
       "      <td>0.315068</td>\n",
       "    </tr>\n",
       "    <tr>\n",
       "      <th>JAN 17, 2015 - CHA vs. IND</th>\n",
       "      <td>31</td>\n",
       "      <td>65</td>\n",
       "      <td>0.322917</td>\n",
       "    </tr>\n",
       "    <tr>\n",
       "      <th>DEC 31, 2014 - OKC vs. PHX</th>\n",
       "      <td>21</td>\n",
       "      <td>44</td>\n",
       "      <td>0.323077</td>\n",
       "    </tr>\n",
       "  </tbody>\n",
       "</table>\n",
       "</div>"
      ],
      "text/plain": [
       "SHOT_RESULT                 made  missed  make_percentage\n",
       "MATCHUP                                                  \n",
       "FEB 09, 2015 - GSW @ PHI       2       9         0.181818\n",
       "NOV 16, 2014 - HOU @ OKC      20      49         0.289855\n",
       "JAN 24, 2015 - CHA vs. NYK    23      50         0.315068\n",
       "JAN 17, 2015 - CHA vs. IND    31      65         0.322917\n",
       "DEC 31, 2014 - OKC vs. PHX    21      44         0.323077"
      ]
     },
     "execution_count": 16,
     "metadata": {},
     "output_type": "execute_result"
    }
   ],
   "source": [
    "made_missed_by_won_game.sort_values('make_percentage').head()"
   ]
  },
  {
   "cell_type": "code",
   "execution_count": null,
   "metadata": {
    "collapsed": true
   },
   "outputs": [],
   "source": []
  },
  {
   "cell_type": "markdown",
   "metadata": {},
   "source": [
    "## Question 4: which individual player took the most shots in a single game (for all the games in the season)"
   ]
  },
  {
   "cell_type": "code",
   "execution_count": 17,
   "metadata": {
    "collapsed": true
   },
   "outputs": [],
   "source": [
    "made_missed_by_matchup_player = \\\n",
    "    df.groupby(['MATCHUP', 'player_name','SHOT_RESULT']).size().unstack().head()"
   ]
  },
  {
   "cell_type": "code",
   "execution_count": 18,
   "metadata": {
    "collapsed": true
   },
   "outputs": [],
   "source": [
    "made_missed_by_matchup_player['total'] = made_missed_by_matchup_player.sum(axis=1)"
   ]
  },
  {
   "cell_type": "code",
   "execution_count": 19,
   "metadata": {},
   "outputs": [
    {
     "data": {
      "text/html": [
       "<div>\n",
       "<table border=\"1\" class=\"dataframe\">\n",
       "  <thead>\n",
       "    <tr style=\"text-align: right;\">\n",
       "      <th>SHOT_RESULT</th>\n",
       "      <th>MATCHUP</th>\n",
       "      <th>player_name</th>\n",
       "      <th>made</th>\n",
       "      <th>missed</th>\n",
       "      <th>total</th>\n",
       "    </tr>\n",
       "  </thead>\n",
       "  <tbody>\n",
       "    <tr>\n",
       "      <th>3</th>\n",
       "      <td>DEC 01, 2014 - DEN @ UTA</td>\n",
       "      <td>jj hickson</td>\n",
       "      <td>4.0</td>\n",
       "      <td>8.0</td>\n",
       "      <td>12.0</td>\n",
       "    </tr>\n",
       "    <tr>\n",
       "      <th>0</th>\n",
       "      <td>DEC 01, 2014 - DEN @ UTA</td>\n",
       "      <td>arron afflalo</td>\n",
       "      <td>6.0</td>\n",
       "      <td>5.0</td>\n",
       "      <td>11.0</td>\n",
       "    </tr>\n",
       "    <tr>\n",
       "      <th>4</th>\n",
       "      <td>DEC 01, 2014 - DEN @ UTA</td>\n",
       "      <td>kenneth faried</td>\n",
       "      <td>4.0</td>\n",
       "      <td>5.0</td>\n",
       "      <td>9.0</td>\n",
       "    </tr>\n",
       "    <tr>\n",
       "      <th>2</th>\n",
       "      <td>DEC 01, 2014 - DEN @ UTA</td>\n",
       "      <td>darrell arthur</td>\n",
       "      <td>4.0</td>\n",
       "      <td>3.0</td>\n",
       "      <td>7.0</td>\n",
       "    </tr>\n",
       "    <tr>\n",
       "      <th>1</th>\n",
       "      <td>DEC 01, 2014 - DEN @ UTA</td>\n",
       "      <td>danilo gallinai</td>\n",
       "      <td>2.0</td>\n",
       "      <td>4.0</td>\n",
       "      <td>6.0</td>\n",
       "    </tr>\n",
       "  </tbody>\n",
       "</table>\n",
       "</div>"
      ],
      "text/plain": [
       "SHOT_RESULT                   MATCHUP      player_name  made  missed  total\n",
       "3            DEC 01, 2014 - DEN @ UTA       jj hickson   4.0     8.0   12.0\n",
       "0            DEC 01, 2014 - DEN @ UTA    arron afflalo   6.0     5.0   11.0\n",
       "4            DEC 01, 2014 - DEN @ UTA   kenneth faried   4.0     5.0    9.0\n",
       "2            DEC 01, 2014 - DEN @ UTA   darrell arthur   4.0     3.0    7.0\n",
       "1            DEC 01, 2014 - DEN @ UTA  danilo gallinai   2.0     4.0    6.0"
      ]
     },
     "execution_count": 19,
     "metadata": {},
     "output_type": "execute_result"
    }
   ],
   "source": [
    "made_missed_by_matchup_player.reset_index().sort_values('total', ascending=False).head()"
   ]
  },
  {
   "cell_type": "code",
   "execution_count": null,
   "metadata": {
    "collapsed": true
   },
   "outputs": [],
   "source": []
  },
  {
   "cell_type": "markdown",
   "metadata": {},
   "source": [
    "## Question 8: which player averaged the most shots over all the games they played in. (for all the games in the season)"
   ]
  },
  {
   "cell_type": "code",
   "execution_count": 20,
   "metadata": {},
   "outputs": [
    {
     "data": {
      "text/html": [
       "<div>\n",
       "<table border=\"1\" class=\"dataframe\">\n",
       "  <thead>\n",
       "    <tr style=\"text-align: right;\">\n",
       "      <th>SHOT_RESULT</th>\n",
       "      <th>made</th>\n",
       "      <th>missed</th>\n",
       "    </tr>\n",
       "    <tr>\n",
       "      <th>player_name</th>\n",
       "      <th></th>\n",
       "      <th></th>\n",
       "    </tr>\n",
       "  </thead>\n",
       "  <tbody>\n",
       "    <tr>\n",
       "      <th>aaron brooks</th>\n",
       "      <td>233</td>\n",
       "      <td>328</td>\n",
       "    </tr>\n",
       "    <tr>\n",
       "      <th>aaron gordon</th>\n",
       "      <td>55</td>\n",
       "      <td>49</td>\n",
       "    </tr>\n",
       "    <tr>\n",
       "      <th>al farouq aminu</th>\n",
       "      <td>111</td>\n",
       "      <td>147</td>\n",
       "    </tr>\n",
       "    <tr>\n",
       "      <th>al horford</th>\n",
       "      <td>387</td>\n",
       "      <td>328</td>\n",
       "    </tr>\n",
       "    <tr>\n",
       "      <th>al jefferson</th>\n",
       "      <td>382</td>\n",
       "      <td>418</td>\n",
       "    </tr>\n",
       "  </tbody>\n",
       "</table>\n",
       "</div>"
      ],
      "text/plain": [
       "SHOT_RESULT      made  missed\n",
       "player_name                  \n",
       "aaron brooks      233     328\n",
       "aaron gordon       55      49\n",
       "al farouq aminu   111     147\n",
       "al horford        387     328\n",
       "al jefferson      382     418"
      ]
     },
     "execution_count": 20,
     "metadata": {},
     "output_type": "execute_result"
    }
   ],
   "source": [
    "# we can get started by finding how many made and missed shots each player has \n",
    "made_missed_by_player = df.groupby(['player_name','SHOT_RESULT']).size().unstack()\n",
    "made_missed_by_player.head()"
   ]
  },
  {
   "cell_type": "code",
   "execution_count": 21,
   "metadata": {},
   "outputs": [
    {
     "data": {
      "text/html": [
       "<div>\n",
       "<table border=\"1\" class=\"dataframe\">\n",
       "  <thead>\n",
       "    <tr style=\"text-align: right;\">\n",
       "      <th></th>\n",
       "      <th>MATCHUP</th>\n",
       "    </tr>\n",
       "    <tr>\n",
       "      <th>player_name</th>\n",
       "      <th></th>\n",
       "    </tr>\n",
       "  </thead>\n",
       "  <tbody>\n",
       "    <tr>\n",
       "      <th>timofey mozgov</th>\n",
       "      <td>62</td>\n",
       "    </tr>\n",
       "    <tr>\n",
       "      <th>deandre jordan</th>\n",
       "      <td>62</td>\n",
       "    </tr>\n",
       "    <tr>\n",
       "      <th>elfrid payton</th>\n",
       "      <td>62</td>\n",
       "    </tr>\n",
       "    <tr>\n",
       "      <th>chris paul</th>\n",
       "      <td>62</td>\n",
       "    </tr>\n",
       "    <tr>\n",
       "      <th>mnta ellis</th>\n",
       "      <td>62</td>\n",
       "    </tr>\n",
       "  </tbody>\n",
       "</table>\n",
       "</div>"
      ],
      "text/plain": [
       "                MATCHUP\n",
       "player_name            \n",
       "timofey mozgov       62\n",
       "deandre jordan       62\n",
       "elfrid payton        62\n",
       "chris paul           62\n",
       "mnta ellis           62"
      ]
     },
     "execution_count": 21,
     "metadata": {},
     "output_type": "execute_result"
    }
   ],
   "source": [
    "# but we also need the total number of games each of these players played in\n",
    "number_of_games_by_player = df.groupby(['player_name'])['MATCHUP'].nunique()\\\n",
    ".to_frame().sort_values('MATCHUP', ascending=False)\n",
    "number_of_games_by_player.head()"
   ]
  },
  {
   "cell_type": "code",
   "execution_count": 22,
   "metadata": {
    "collapsed": true
   },
   "outputs": [],
   "source": [
    "# ok how we can put these two dataframes together \n",
    "# but how are we going to do this since they are not in the same order?\n",
    "# if you have some experience with SQL you're probably thinking to use\n",
    "# merge and we can do that it would look like this"
   ]
  },
  {
   "cell_type": "code",
   "execution_count": 23,
   "metadata": {},
   "outputs": [
    {
     "data": {
      "text/html": [
       "<div>\n",
       "<table border=\"1\" class=\"dataframe\">\n",
       "  <thead>\n",
       "    <tr style=\"text-align: right;\">\n",
       "      <th></th>\n",
       "      <th>made</th>\n",
       "      <th>missed</th>\n",
       "      <th>MATCHUP</th>\n",
       "    </tr>\n",
       "    <tr>\n",
       "      <th>player_name</th>\n",
       "      <th></th>\n",
       "      <th></th>\n",
       "      <th></th>\n",
       "    </tr>\n",
       "  </thead>\n",
       "  <tbody>\n",
       "    <tr>\n",
       "      <th>timofey mozgov</th>\n",
       "      <td>233</td>\n",
       "      <td>195</td>\n",
       "      <td>62</td>\n",
       "    </tr>\n",
       "    <tr>\n",
       "      <th>deandre jordan</th>\n",
       "      <td>280</td>\n",
       "      <td>113</td>\n",
       "      <td>62</td>\n",
       "    </tr>\n",
       "    <tr>\n",
       "      <th>elfrid payton</th>\n",
       "      <td>198</td>\n",
       "      <td>282</td>\n",
       "      <td>62</td>\n",
       "    </tr>\n",
       "    <tr>\n",
       "      <th>chris paul</th>\n",
       "      <td>425</td>\n",
       "      <td>460</td>\n",
       "      <td>62</td>\n",
       "    </tr>\n",
       "    <tr>\n",
       "      <th>mnta ellis</th>\n",
       "      <td>473</td>\n",
       "      <td>579</td>\n",
       "      <td>62</td>\n",
       "    </tr>\n",
       "  </tbody>\n",
       "</table>\n",
       "</div>"
      ],
      "text/plain": [
       "                made  missed  MATCHUP\n",
       "player_name                          \n",
       "timofey mozgov   233     195       62\n",
       "deandre jordan   280     113       62\n",
       "elfrid payton    198     282       62\n",
       "chris paul       425     460       62\n",
       "mnta ellis       473     579       62"
      ]
     },
     "execution_count": 23,
     "metadata": {},
     "output_type": "execute_result"
    }
   ],
   "source": [
    "made_missed_num_games_by_player = pd.merge(made_missed_by_player, number_of_games_by_player, left_index=True, right_index=True)\n",
    "made_missed_num_games_by_player.head()"
   ]
  },
  {
   "cell_type": "code",
   "execution_count": 24,
   "metadata": {
    "collapsed": true
   },
   "outputs": [],
   "source": [
    "# but there is a much easier way ....\n",
    "# a way that could be described as pantastic"
   ]
  },
  {
   "cell_type": "code",
   "execution_count": 25,
   "metadata": {
    "collapsed": true
   },
   "outputs": [],
   "source": [
    "made_missed_by_player['num_games_played'] = number_of_games_by_player"
   ]
  },
  {
   "cell_type": "code",
   "execution_count": 26,
   "metadata": {},
   "outputs": [
    {
     "data": {
      "text/html": [
       "<div>\n",
       "<table border=\"1\" class=\"dataframe\">\n",
       "  <thead>\n",
       "    <tr style=\"text-align: right;\">\n",
       "      <th>SHOT_RESULT</th>\n",
       "      <th>made</th>\n",
       "      <th>missed</th>\n",
       "      <th>num_games_played</th>\n",
       "    </tr>\n",
       "    <tr>\n",
       "      <th>player_name</th>\n",
       "      <th></th>\n",
       "      <th></th>\n",
       "      <th></th>\n",
       "    </tr>\n",
       "  </thead>\n",
       "  <tbody>\n",
       "    <tr>\n",
       "      <th>aaron brooks</th>\n",
       "      <td>233</td>\n",
       "      <td>328</td>\n",
       "      <td>61</td>\n",
       "    </tr>\n",
       "    <tr>\n",
       "      <th>aaron gordon</th>\n",
       "      <td>55</td>\n",
       "      <td>49</td>\n",
       "      <td>27</td>\n",
       "    </tr>\n",
       "    <tr>\n",
       "      <th>al farouq aminu</th>\n",
       "      <td>111</td>\n",
       "      <td>147</td>\n",
       "      <td>54</td>\n",
       "    </tr>\n",
       "    <tr>\n",
       "      <th>al horford</th>\n",
       "      <td>387</td>\n",
       "      <td>328</td>\n",
       "      <td>57</td>\n",
       "    </tr>\n",
       "    <tr>\n",
       "      <th>al jefferson</th>\n",
       "      <td>382</td>\n",
       "      <td>418</td>\n",
       "      <td>50</td>\n",
       "    </tr>\n",
       "  </tbody>\n",
       "</table>\n",
       "</div>"
      ],
      "text/plain": [
       "SHOT_RESULT      made  missed  num_games_played\n",
       "player_name                                    \n",
       "aaron brooks      233     328                61\n",
       "aaron gordon       55      49                27\n",
       "al farouq aminu   111     147                54\n",
       "al horford        387     328                57\n",
       "al jefferson      382     418                50"
      ]
     },
     "execution_count": 26,
     "metadata": {},
     "output_type": "execute_result"
    }
   ],
   "source": [
    "made_missed_by_player.head()"
   ]
  },
  {
   "cell_type": "code",
   "execution_count": null,
   "metadata": {
    "collapsed": true
   },
   "outputs": [],
   "source": [
    "# pretty slick right?\n",
    "# pandas aligns indexes for us "
   ]
  },
  {
   "cell_type": "code",
   "execution_count": null,
   "metadata": {
    "collapsed": true
   },
   "outputs": [],
   "source": []
  },
  {
   "cell_type": "code",
   "execution_count": null,
   "metadata": {
    "collapsed": true
   },
   "outputs": [],
   "source": []
  },
  {
   "cell_type": "code",
   "execution_count": null,
   "metadata": {
    "collapsed": true
   },
   "outputs": [],
   "source": [
    "# if you want more questions here are a few that are very similar.\n",
    "# 1. most often defending\n",
    "# 2. most often defending a shot that is missed / made\n",
    "# 3. most often defending a shot that is missed / made avg over number of games\n"
   ]
  },
  {
   "cell_type": "code",
   "execution_count": null,
   "metadata": {
    "collapsed": true
   },
   "outputs": [],
   "source": []
  },
  {
   "cell_type": "code",
   "execution_count": null,
   "metadata": {
    "collapsed": true
   },
   "outputs": [],
   "source": []
  },
  {
   "cell_type": "code",
   "execution_count": null,
   "metadata": {
    "collapsed": true
   },
   "outputs": [],
   "source": []
  },
  {
   "cell_type": "code",
   "execution_count": null,
   "metadata": {},
   "outputs": [],
   "source": [
    "from IPython.display import Image\n",
    "from IPython.core.display import HTML \n",
    "Image(filename=\"./pandasplash.png\")"
   ]
  },
  {
   "cell_type": "code",
   "execution_count": null,
   "metadata": {
    "collapsed": true
   },
   "outputs": [],
   "source": []
  }
 ],
 "metadata": {
  "kernelspec": {
   "display_name": "Python 3",
   "language": "python",
   "name": "python3"
  },
  "language_info": {
   "codemirror_mode": {
    "name": "ipython",
    "version": 3
   },
   "file_extension": ".py",
   "mimetype": "text/x-python",
   "name": "python",
   "nbconvert_exporter": "python",
   "pygments_lexer": "ipython3",
   "version": "3.6.0"
  }
 },
 "nbformat": 4,
 "nbformat_minor": 2
}
